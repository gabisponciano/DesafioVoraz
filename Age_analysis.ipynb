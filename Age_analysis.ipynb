{
  "nbformat": 4,
  "nbformat_minor": 0,
  "metadata": {
    "colab": {
      "provenance": [],
      "include_colab_link": true
    },
    "kernelspec": {
      "name": "python3",
      "display_name": "Python 3"
    },
    "language_info": {
      "name": "python"
    }
  },
  "cells": [
    {
      "cell_type": "markdown",
      "metadata": {
        "id": "view-in-github",
        "colab_type": "text"
      },
      "source": [
        "<a href=\"https://colab.research.google.com/github/gabisponciano/DesafioVoraz/blob/main/Age_analysis.ipynb\" target=\"_parent\"><img src=\"https://colab.research.google.com/assets/colab-badge.svg\" alt=\"Open In Colab\"/></a>"
      ]
    },
    {
      "cell_type": "markdown",
      "source": [
        "## **Carregando Arquivo**"
      ],
      "metadata": {
        "id": "D9bEp8Gzmcys"
      }
    },
    {
      "cell_type": "code",
      "execution_count": null,
      "metadata": {
        "id": "yMGvMywiRrIe"
      },
      "outputs": [],
      "source": [
        "import pandas as pd\n",
        "import matplotlib.pyplot as plt\n",
        "import numpy as np\n",
        "import seaborn as sns"
      ]
    },
    {
      "cell_type": "code",
      "source": [
        "from google.colab import drive\n",
        "drive.mount('/content/drive')\n",
        "\n",
        "%cd /content/drive/MyDrive/Desafio Voraz"
      ],
      "metadata": {
        "colab": {
          "base_uri": "https://localhost:8080/"
        },
        "collapsed": true,
        "id": "fI3dWaKmTngo",
        "outputId": "a30eb7f4-87fe-4c92-a900-8a2c92ee370a"
      },
      "execution_count": null,
      "outputs": [
        {
          "output_type": "stream",
          "name": "stdout",
          "text": [
            "Mounted at /content/drive\n",
            "/content/drive/MyDrive/UFC/Extracurriculares/Desafio Voraz/Data\n"
          ]
        }
      ]
    },
    {
      "cell_type": "code",
      "source": [
        "#Ajustando os gráficos\n",
        "fnts=12\n",
        "fgs=(20/2, 6/2)\n",
        "trs=0.3 # transparência\n",
        "plt.style.use(\"ggplot\")"
      ],
      "metadata": {
        "id": "3QxAKufDE4rQ"
      },
      "execution_count": null,
      "outputs": []
    },
    {
      "cell_type": "markdown",
      "source": [
        "## **Informações Gerais**\n",
        "\n",
        "\n",
        "\n",
        "*   Ad Set Name: Nome do conjunto de anúncios.\n",
        "* Platform: Plataforma em que o anúncio foi veiculado (neste caso, Facebook).\n",
        "* Result Rate: Taxa de resultado.\n",
        "* Result Indicator: Indicador de resultado.\n",
        "* Results: Número de resultados obtidos.\n",
        "* Reach: Alcance do anúncio (número de pessoas que viram o anúncio).\n",
        "* Frequency: Frequência do anúncio (número médio de vezes que cada pessoa viu o anúncio).\n",
        "* Link Clicks: Número de cliques no link do anúncio.\n",
        "* CPC (Link) (USD): Custo por clique no link em dólares americanos.\n",
        "* CPC (All) (USD): Custo por clique geral em dólares americanos.\n",
        "* Cost per 1,000 People Reached (USD): Custo por 1.000 pessoas alcançadas em dólares americanos.\n",
        "* CTR (All): Taxa de clique geral (%).\n",
        "* Add to Cart (Facebook Pixel): Número de vezes que o produto foi adicionado ao carrinho (medido pelo pixel do Facebook).\n",
        "* Cost per Add To Cart (Facebook Pixel) (USD): Custo por adicionar ao carrinho em dólares americanos.\n",
        "* Initiate Checkout (Facebook Pixel): Número de vezes que o processo de checkout foi iniciado (medido pelo pixel do Facebook).\n",
        "* Cost per Initiate Checkout (Facebook Pixel) (USD): Custo por iniciar o checkout em dólares americanos.\n",
        "* Purchase (Facebook Pixel): Número de compras (medido pelo pixel do Facebook).\n",
        "* Cost per Purchase (Facebook Pixel) (USD): Custo por compra em dólares americanos.\n",
        "* Amount Spent (USD): Quantidade gasta em dólares americanos.\n",
        "* Purchase Conversion Value (Facebook Pixel): Valor de conversão das compras (medido pelo pixel do Facebook).\n",
        "\n"
      ],
      "metadata": {
        "id": "bCuQEJY6zvyv"
      }
    },
    {
      "cell_type": "markdown",
      "source": [
        "## **Lendo**"
      ],
      "metadata": {
        "id": "qrkI3aUDsO9i"
      }
    },
    {
      "cell_type": "code",
      "source": [
        "ageData = pd.read_csv('Growth-Internship-Test.xlsx - BY AGE.csv')\n",
        "ageData.head()"
      ],
      "metadata": {
        "colab": {
          "base_uri": "https://localhost:8080/",
          "height": 660
        },
        "collapsed": true,
        "id": "ZhtNDaZPVGMJ",
        "outputId": "d341eb76-38bb-437b-97db-65476ba4fc6f"
      },
      "execution_count": null,
      "outputs": [
        {
          "output_type": "execute_result",
          "data": {
            "text/plain": [
              "                                         Ad Set Name    Age Result Rate  \\\n",
              "0  LC Cart-Conversion 23/03/2017 (18-35, Europe+W...  18-24       0,00%   \n",
              "1  LC Cart-Conversion 23/03/2017 (18-35, Europe+W...  25-34       0,00%   \n",
              "2  LC Cart-Conversion 23/03/2017 (18-35, Europe+W...  35-44       0,00%   \n",
              "3  LC Cart-Conversion 23/03/2017 (Europe+WW, Luxu...  18-24       0,00%   \n",
              "4  LC Cart-Conversion 23/03/2017 (Europe+WW, Luxu...  25-34       0,00%   \n",
              "\n",
              "  Result Indicator  Results  Reach Frequency  Link Clicks CPC (Link) (USD)  \\\n",
              "0                -        0     65      1,06            1            $0,19   \n",
              "1                -        0     60      1,02            1            $0,17   \n",
              "2                -        0      3      1,00            0            $0,00   \n",
              "3                -        0     68      1,00            0            $0,00   \n",
              "4                -        0     41      1,00            0            $0,00   \n",
              "\n",
              "  CPC (All) (USD) Cost per 1,000 People Reached (USD) CTR (All)  \\\n",
              "0           $0,05                               $2,92     5,80%   \n",
              "1           $0,17                               $2,83     1,64%   \n",
              "2           $0,00                               $0,00     0,00%   \n",
              "3           $0,25                               $3,68     1,47%   \n",
              "4           $0,00                               $3,90     0,00%   \n",
              "\n",
              "   Add to Cart (Facebook Pixel) Cost per Add To Cart (Facebook Pixel) (USD)  \\\n",
              "0                             0                                       $0,00   \n",
              "1                             0                                       $0,00   \n",
              "2                             0                                       $0,00   \n",
              "3                             0                                       $0,00   \n",
              "4                             0                                       $0,00   \n",
              "\n",
              "   Initiate Checkout (Facebook Pixel)  \\\n",
              "0                                   0   \n",
              "1                                   0   \n",
              "2                                   0   \n",
              "3                                   0   \n",
              "4                                   0   \n",
              "\n",
              "  Cost per Initiate Checkout (Facebook Pixel) (USD)  \\\n",
              "0                                             $0,00   \n",
              "1                                             $0,00   \n",
              "2                                             $0,00   \n",
              "3                                             $0,00   \n",
              "4                                             $0,00   \n",
              "\n",
              "   Purchase (Facebook Pixel) Cost per Purchase (Facebook Pixel) (USD)  \\\n",
              "0                          0                                    $0,00   \n",
              "1                          0                                    $0,00   \n",
              "2                          0                                    $0,00   \n",
              "3                          0                                    $0,00   \n",
              "4                          0                                    $0,00   \n",
              "\n",
              "  Amount Spent (USD) Purchase Conversion Value (Facebook Pixel)  \n",
              "0              $0,19                                      $0,00  \n",
              "1              $0,17                                      $0,00  \n",
              "2              $0,00                                      $0,00  \n",
              "3              $0,25                                      $0,00  \n",
              "4              $0,16                                      $0,00  "
            ],
            "text/html": [
              "\n",
              "  <div id=\"df-0fed9b67-c584-417f-b83b-bcf1474496f0\" class=\"colab-df-container\">\n",
              "    <div>\n",
              "<style scoped>\n",
              "    .dataframe tbody tr th:only-of-type {\n",
              "        vertical-align: middle;\n",
              "    }\n",
              "\n",
              "    .dataframe tbody tr th {\n",
              "        vertical-align: top;\n",
              "    }\n",
              "\n",
              "    .dataframe thead th {\n",
              "        text-align: right;\n",
              "    }\n",
              "</style>\n",
              "<table border=\"1\" class=\"dataframe\">\n",
              "  <thead>\n",
              "    <tr style=\"text-align: right;\">\n",
              "      <th></th>\n",
              "      <th>Ad Set Name</th>\n",
              "      <th>Age</th>\n",
              "      <th>Result Rate</th>\n",
              "      <th>Result Indicator</th>\n",
              "      <th>Results</th>\n",
              "      <th>Reach</th>\n",
              "      <th>Frequency</th>\n",
              "      <th>Link Clicks</th>\n",
              "      <th>CPC (Link) (USD)</th>\n",
              "      <th>CPC (All) (USD)</th>\n",
              "      <th>Cost per 1,000 People Reached (USD)</th>\n",
              "      <th>CTR (All)</th>\n",
              "      <th>Add to Cart (Facebook Pixel)</th>\n",
              "      <th>Cost per Add To Cart (Facebook Pixel) (USD)</th>\n",
              "      <th>Initiate Checkout (Facebook Pixel)</th>\n",
              "      <th>Cost per Initiate Checkout (Facebook Pixel) (USD)</th>\n",
              "      <th>Purchase (Facebook Pixel)</th>\n",
              "      <th>Cost per Purchase (Facebook Pixel) (USD)</th>\n",
              "      <th>Amount Spent (USD)</th>\n",
              "      <th>Purchase Conversion Value (Facebook Pixel)</th>\n",
              "    </tr>\n",
              "  </thead>\n",
              "  <tbody>\n",
              "    <tr>\n",
              "      <th>0</th>\n",
              "      <td>LC Cart-Conversion 23/03/2017 (18-35, Europe+W...</td>\n",
              "      <td>18-24</td>\n",
              "      <td>0,00%</td>\n",
              "      <td>-</td>\n",
              "      <td>0</td>\n",
              "      <td>65</td>\n",
              "      <td>1,06</td>\n",
              "      <td>1</td>\n",
              "      <td>$0,19</td>\n",
              "      <td>$0,05</td>\n",
              "      <td>$2,92</td>\n",
              "      <td>5,80%</td>\n",
              "      <td>0</td>\n",
              "      <td>$0,00</td>\n",
              "      <td>0</td>\n",
              "      <td>$0,00</td>\n",
              "      <td>0</td>\n",
              "      <td>$0,00</td>\n",
              "      <td>$0,19</td>\n",
              "      <td>$0,00</td>\n",
              "    </tr>\n",
              "    <tr>\n",
              "      <th>1</th>\n",
              "      <td>LC Cart-Conversion 23/03/2017 (18-35, Europe+W...</td>\n",
              "      <td>25-34</td>\n",
              "      <td>0,00%</td>\n",
              "      <td>-</td>\n",
              "      <td>0</td>\n",
              "      <td>60</td>\n",
              "      <td>1,02</td>\n",
              "      <td>1</td>\n",
              "      <td>$0,17</td>\n",
              "      <td>$0,17</td>\n",
              "      <td>$2,83</td>\n",
              "      <td>1,64%</td>\n",
              "      <td>0</td>\n",
              "      <td>$0,00</td>\n",
              "      <td>0</td>\n",
              "      <td>$0,00</td>\n",
              "      <td>0</td>\n",
              "      <td>$0,00</td>\n",
              "      <td>$0,17</td>\n",
              "      <td>$0,00</td>\n",
              "    </tr>\n",
              "    <tr>\n",
              "      <th>2</th>\n",
              "      <td>LC Cart-Conversion 23/03/2017 (18-35, Europe+W...</td>\n",
              "      <td>35-44</td>\n",
              "      <td>0,00%</td>\n",
              "      <td>-</td>\n",
              "      <td>0</td>\n",
              "      <td>3</td>\n",
              "      <td>1,00</td>\n",
              "      <td>0</td>\n",
              "      <td>$0,00</td>\n",
              "      <td>$0,00</td>\n",
              "      <td>$0,00</td>\n",
              "      <td>0,00%</td>\n",
              "      <td>0</td>\n",
              "      <td>$0,00</td>\n",
              "      <td>0</td>\n",
              "      <td>$0,00</td>\n",
              "      <td>0</td>\n",
              "      <td>$0,00</td>\n",
              "      <td>$0,00</td>\n",
              "      <td>$0,00</td>\n",
              "    </tr>\n",
              "    <tr>\n",
              "      <th>3</th>\n",
              "      <td>LC Cart-Conversion 23/03/2017 (Europe+WW, Luxu...</td>\n",
              "      <td>18-24</td>\n",
              "      <td>0,00%</td>\n",
              "      <td>-</td>\n",
              "      <td>0</td>\n",
              "      <td>68</td>\n",
              "      <td>1,00</td>\n",
              "      <td>0</td>\n",
              "      <td>$0,00</td>\n",
              "      <td>$0,25</td>\n",
              "      <td>$3,68</td>\n",
              "      <td>1,47%</td>\n",
              "      <td>0</td>\n",
              "      <td>$0,00</td>\n",
              "      <td>0</td>\n",
              "      <td>$0,00</td>\n",
              "      <td>0</td>\n",
              "      <td>$0,00</td>\n",
              "      <td>$0,25</td>\n",
              "      <td>$0,00</td>\n",
              "    </tr>\n",
              "    <tr>\n",
              "      <th>4</th>\n",
              "      <td>LC Cart-Conversion 23/03/2017 (Europe+WW, Luxu...</td>\n",
              "      <td>25-34</td>\n",
              "      <td>0,00%</td>\n",
              "      <td>-</td>\n",
              "      <td>0</td>\n",
              "      <td>41</td>\n",
              "      <td>1,00</td>\n",
              "      <td>0</td>\n",
              "      <td>$0,00</td>\n",
              "      <td>$0,00</td>\n",
              "      <td>$3,90</td>\n",
              "      <td>0,00%</td>\n",
              "      <td>0</td>\n",
              "      <td>$0,00</td>\n",
              "      <td>0</td>\n",
              "      <td>$0,00</td>\n",
              "      <td>0</td>\n",
              "      <td>$0,00</td>\n",
              "      <td>$0,16</td>\n",
              "      <td>$0,00</td>\n",
              "    </tr>\n",
              "  </tbody>\n",
              "</table>\n",
              "</div>\n",
              "    <div class=\"colab-df-buttons\">\n",
              "\n",
              "  <div class=\"colab-df-container\">\n",
              "    <button class=\"colab-df-convert\" onclick=\"convertToInteractive('df-0fed9b67-c584-417f-b83b-bcf1474496f0')\"\n",
              "            title=\"Convert this dataframe to an interactive table.\"\n",
              "            style=\"display:none;\">\n",
              "\n",
              "  <svg xmlns=\"http://www.w3.org/2000/svg\" height=\"24px\" viewBox=\"0 -960 960 960\">\n",
              "    <path d=\"M120-120v-720h720v720H120Zm60-500h600v-160H180v160Zm220 220h160v-160H400v160Zm0 220h160v-160H400v160ZM180-400h160v-160H180v160Zm440 0h160v-160H620v160ZM180-180h160v-160H180v160Zm440 0h160v-160H620v160Z\"/>\n",
              "  </svg>\n",
              "    </button>\n",
              "\n",
              "  <style>\n",
              "    .colab-df-container {\n",
              "      display:flex;\n",
              "      gap: 12px;\n",
              "    }\n",
              "\n",
              "    .colab-df-convert {\n",
              "      background-color: #E8F0FE;\n",
              "      border: none;\n",
              "      border-radius: 50%;\n",
              "      cursor: pointer;\n",
              "      display: none;\n",
              "      fill: #1967D2;\n",
              "      height: 32px;\n",
              "      padding: 0 0 0 0;\n",
              "      width: 32px;\n",
              "    }\n",
              "\n",
              "    .colab-df-convert:hover {\n",
              "      background-color: #E2EBFA;\n",
              "      box-shadow: 0px 1px 2px rgba(60, 64, 67, 0.3), 0px 1px 3px 1px rgba(60, 64, 67, 0.15);\n",
              "      fill: #174EA6;\n",
              "    }\n",
              "\n",
              "    .colab-df-buttons div {\n",
              "      margin-bottom: 4px;\n",
              "    }\n",
              "\n",
              "    [theme=dark] .colab-df-convert {\n",
              "      background-color: #3B4455;\n",
              "      fill: #D2E3FC;\n",
              "    }\n",
              "\n",
              "    [theme=dark] .colab-df-convert:hover {\n",
              "      background-color: #434B5C;\n",
              "      box-shadow: 0px 1px 3px 1px rgba(0, 0, 0, 0.15);\n",
              "      filter: drop-shadow(0px 1px 2px rgba(0, 0, 0, 0.3));\n",
              "      fill: #FFFFFF;\n",
              "    }\n",
              "  </style>\n",
              "\n",
              "    <script>\n",
              "      const buttonEl =\n",
              "        document.querySelector('#df-0fed9b67-c584-417f-b83b-bcf1474496f0 button.colab-df-convert');\n",
              "      buttonEl.style.display =\n",
              "        google.colab.kernel.accessAllowed ? 'block' : 'none';\n",
              "\n",
              "      async function convertToInteractive(key) {\n",
              "        const element = document.querySelector('#df-0fed9b67-c584-417f-b83b-bcf1474496f0');\n",
              "        const dataTable =\n",
              "          await google.colab.kernel.invokeFunction('convertToInteractive',\n",
              "                                                    [key], {});\n",
              "        if (!dataTable) return;\n",
              "\n",
              "        const docLinkHtml = 'Like what you see? Visit the ' +\n",
              "          '<a target=\"_blank\" href=https://colab.research.google.com/notebooks/data_table.ipynb>data table notebook</a>'\n",
              "          + ' to learn more about interactive tables.';\n",
              "        element.innerHTML = '';\n",
              "        dataTable['output_type'] = 'display_data';\n",
              "        await google.colab.output.renderOutput(dataTable, element);\n",
              "        const docLink = document.createElement('div');\n",
              "        docLink.innerHTML = docLinkHtml;\n",
              "        element.appendChild(docLink);\n",
              "      }\n",
              "    </script>\n",
              "  </div>\n",
              "\n",
              "\n",
              "<div id=\"df-449245ba-2458-45ce-814b-d351409f5566\">\n",
              "  <button class=\"colab-df-quickchart\" onclick=\"quickchart('df-449245ba-2458-45ce-814b-d351409f5566')\"\n",
              "            title=\"Suggest charts\"\n",
              "            style=\"display:none;\">\n",
              "\n",
              "<svg xmlns=\"http://www.w3.org/2000/svg\" height=\"24px\"viewBox=\"0 0 24 24\"\n",
              "     width=\"24px\">\n",
              "    <g>\n",
              "        <path d=\"M19 3H5c-1.1 0-2 .9-2 2v14c0 1.1.9 2 2 2h14c1.1 0 2-.9 2-2V5c0-1.1-.9-2-2-2zM9 17H7v-7h2v7zm4 0h-2V7h2v10zm4 0h-2v-4h2v4z\"/>\n",
              "    </g>\n",
              "</svg>\n",
              "  </button>\n",
              "\n",
              "<style>\n",
              "  .colab-df-quickchart {\n",
              "      --bg-color: #E8F0FE;\n",
              "      --fill-color: #1967D2;\n",
              "      --hover-bg-color: #E2EBFA;\n",
              "      --hover-fill-color: #174EA6;\n",
              "      --disabled-fill-color: #AAA;\n",
              "      --disabled-bg-color: #DDD;\n",
              "  }\n",
              "\n",
              "  [theme=dark] .colab-df-quickchart {\n",
              "      --bg-color: #3B4455;\n",
              "      --fill-color: #D2E3FC;\n",
              "      --hover-bg-color: #434B5C;\n",
              "      --hover-fill-color: #FFFFFF;\n",
              "      --disabled-bg-color: #3B4455;\n",
              "      --disabled-fill-color: #666;\n",
              "  }\n",
              "\n",
              "  .colab-df-quickchart {\n",
              "    background-color: var(--bg-color);\n",
              "    border: none;\n",
              "    border-radius: 50%;\n",
              "    cursor: pointer;\n",
              "    display: none;\n",
              "    fill: var(--fill-color);\n",
              "    height: 32px;\n",
              "    padding: 0;\n",
              "    width: 32px;\n",
              "  }\n",
              "\n",
              "  .colab-df-quickchart:hover {\n",
              "    background-color: var(--hover-bg-color);\n",
              "    box-shadow: 0 1px 2px rgba(60, 64, 67, 0.3), 0 1px 3px 1px rgba(60, 64, 67, 0.15);\n",
              "    fill: var(--button-hover-fill-color);\n",
              "  }\n",
              "\n",
              "  .colab-df-quickchart-complete:disabled,\n",
              "  .colab-df-quickchart-complete:disabled:hover {\n",
              "    background-color: var(--disabled-bg-color);\n",
              "    fill: var(--disabled-fill-color);\n",
              "    box-shadow: none;\n",
              "  }\n",
              "\n",
              "  .colab-df-spinner {\n",
              "    border: 2px solid var(--fill-color);\n",
              "    border-color: transparent;\n",
              "    border-bottom-color: var(--fill-color);\n",
              "    animation:\n",
              "      spin 1s steps(1) infinite;\n",
              "  }\n",
              "\n",
              "  @keyframes spin {\n",
              "    0% {\n",
              "      border-color: transparent;\n",
              "      border-bottom-color: var(--fill-color);\n",
              "      border-left-color: var(--fill-color);\n",
              "    }\n",
              "    20% {\n",
              "      border-color: transparent;\n",
              "      border-left-color: var(--fill-color);\n",
              "      border-top-color: var(--fill-color);\n",
              "    }\n",
              "    30% {\n",
              "      border-color: transparent;\n",
              "      border-left-color: var(--fill-color);\n",
              "      border-top-color: var(--fill-color);\n",
              "      border-right-color: var(--fill-color);\n",
              "    }\n",
              "    40% {\n",
              "      border-color: transparent;\n",
              "      border-right-color: var(--fill-color);\n",
              "      border-top-color: var(--fill-color);\n",
              "    }\n",
              "    60% {\n",
              "      border-color: transparent;\n",
              "      border-right-color: var(--fill-color);\n",
              "    }\n",
              "    80% {\n",
              "      border-color: transparent;\n",
              "      border-right-color: var(--fill-color);\n",
              "      border-bottom-color: var(--fill-color);\n",
              "    }\n",
              "    90% {\n",
              "      border-color: transparent;\n",
              "      border-bottom-color: var(--fill-color);\n",
              "    }\n",
              "  }\n",
              "</style>\n",
              "\n",
              "  <script>\n",
              "    async function quickchart(key) {\n",
              "      const quickchartButtonEl =\n",
              "        document.querySelector('#' + key + ' button');\n",
              "      quickchartButtonEl.disabled = true;  // To prevent multiple clicks.\n",
              "      quickchartButtonEl.classList.add('colab-df-spinner');\n",
              "      try {\n",
              "        const charts = await google.colab.kernel.invokeFunction(\n",
              "            'suggestCharts', [key], {});\n",
              "      } catch (error) {\n",
              "        console.error('Error during call to suggestCharts:', error);\n",
              "      }\n",
              "      quickchartButtonEl.classList.remove('colab-df-spinner');\n",
              "      quickchartButtonEl.classList.add('colab-df-quickchart-complete');\n",
              "    }\n",
              "    (() => {\n",
              "      let quickchartButtonEl =\n",
              "        document.querySelector('#df-449245ba-2458-45ce-814b-d351409f5566 button');\n",
              "      quickchartButtonEl.style.display =\n",
              "        google.colab.kernel.accessAllowed ? 'block' : 'none';\n",
              "    })();\n",
              "  </script>\n",
              "</div>\n",
              "\n",
              "    </div>\n",
              "  </div>\n"
            ],
            "application/vnd.google.colaboratory.intrinsic+json": {
              "type": "dataframe",
              "variable_name": "ageData",
              "summary": "{\n  \"name\": \"ageData\",\n  \"rows\": 11677,\n  \"fields\": [\n    {\n      \"column\": \"Ad Set Name\",\n      \"properties\": {\n        \"dtype\": \"category\",\n        \"num_unique_values\": 1071,\n        \"samples\": [\n          \"LC Cart-Conversion 19/02/2017 (18-35, Europe+WW, Mermaid)\",\n          \"LC Checkout-Conversion 03/12/2016 (Europe, Mr Robot)\",\n          \"LC Cart-Conversion 19/01/2017 (18-35, Europe, iPhone Lovers)\"\n        ],\n        \"semantic_type\": \"\",\n        \"description\": \"\"\n      }\n    },\n    {\n      \"column\": \"Age\",\n      \"properties\": {\n        \"dtype\": \"category\",\n        \"num_unique_values\": 7,\n        \"samples\": [\n          \"18-24\",\n          \"25-34\",\n          \"45-54\"\n        ],\n        \"semantic_type\": \"\",\n        \"description\": \"\"\n      }\n    },\n    {\n      \"column\": \"Result Rate\",\n      \"properties\": {\n        \"dtype\": \"category\",\n        \"num_unique_values\": 574,\n        \"samples\": [\n          \"3,22%\",\n          \"2,25%\",\n          \"0,43%\"\n        ],\n        \"semantic_type\": \"\",\n        \"description\": \"\"\n      }\n    },\n    {\n      \"column\": \"Result Indicator\",\n      \"properties\": {\n        \"dtype\": \"category\",\n        \"num_unique_values\": 8,\n        \"samples\": [\n          \"actions:offsite_conversion.fb_pixel_add_to_cart\",\n          \"actions:link_click\",\n          \"-\"\n        ],\n        \"semantic_type\": \"\",\n        \"description\": \"\"\n      }\n    },\n    {\n      \"column\": \"Results\",\n      \"properties\": {\n        \"dtype\": \"number\",\n        \"std\": 7196,\n        \"min\": 0,\n        \"max\": 430613,\n        \"num_unique_values\": 451,\n        \"samples\": [\n          314,\n          20,\n          620\n        ],\n        \"semantic_type\": \"\",\n        \"description\": \"\"\n      }\n    },\n    {\n      \"column\": \"Reach\",\n      \"properties\": {\n        \"dtype\": \"number\",\n        \"std\": 49908,\n        \"min\": 0,\n        \"max\": 2169278,\n        \"num_unique_values\": 3075,\n        \"samples\": [\n          6079,\n          29930,\n          35186\n        ],\n        \"semantic_type\": \"\",\n        \"description\": \"\"\n      }\n    },\n    {\n      \"column\": \"Frequency\",\n      \"properties\": {\n        \"dtype\": \"category\",\n        \"num_unique_values\": 512,\n        \"samples\": [\n          \"19,24\",\n          \"13,42\",\n          \"6,27\"\n        ],\n        \"semantic_type\": \"\",\n        \"description\": \"\"\n      }\n    },\n    {\n      \"column\": \"Link Clicks\",\n      \"properties\": {\n        \"dtype\": \"number\",\n        \"std\": 748,\n        \"min\": 0,\n        \"max\": 21955,\n        \"num_unique_values\": 935,\n        \"samples\": [\n          3205,\n          87,\n          251\n        ],\n        \"semantic_type\": \"\",\n        \"description\": \"\"\n      }\n    },\n    {\n      \"column\": \"CPC (Link) (USD)\",\n      \"properties\": {\n        \"dtype\": \"category\",\n        \"num_unique_values\": 245,\n        \"samples\": [\n          \"$0,99\",\n          \"$0,14\",\n          \"$1,89\"\n        ],\n        \"semantic_type\": \"\",\n        \"description\": \"\"\n      }\n    },\n    {\n      \"column\": \"CPC (All) (USD)\",\n      \"properties\": {\n        \"dtype\": \"category\",\n        \"num_unique_values\": 126,\n        \"samples\": [\n          \"$0,01\",\n          \"$0,15\",\n          \"$0,61\"\n        ],\n        \"semantic_type\": \"\",\n        \"description\": \"\"\n      }\n    },\n    {\n      \"column\": \"Cost per 1,000 People Reached (USD)\",\n      \"properties\": {\n        \"dtype\": \"category\",\n        \"num_unique_values\": 1193,\n        \"samples\": [\n          \"$54,81\",\n          \"$23,57\",\n          \"$1,99\"\n        ],\n        \"semantic_type\": \"\",\n        \"description\": \"\"\n      }\n    },\n    {\n      \"column\": \"CTR (All)\",\n      \"properties\": {\n        \"dtype\": \"category\",\n        \"num_unique_values\": 620,\n        \"samples\": [\n          \"0,93%\",\n          \"5,61%\",\n          \"1,58%\"\n        ],\n        \"semantic_type\": \"\",\n        \"description\": \"\"\n      }\n    },\n    {\n      \"column\": \"Add to Cart (Facebook Pixel)\",\n      \"properties\": {\n        \"dtype\": \"number\",\n        \"std\": 106,\n        \"min\": 0,\n        \"max\": 3478,\n        \"num_unique_values\": 388,\n        \"samples\": [\n          340,\n          42,\n          583\n        ],\n        \"semantic_type\": \"\",\n        \"description\": \"\"\n      }\n    },\n    {\n      \"column\": \"Cost per Add To Cart (Facebook Pixel) (USD)\",\n      \"properties\": {\n        \"dtype\": \"category\",\n        \"num_unique_values\": 700,\n        \"samples\": [\n          \"$1,86\",\n          \"$2,87\",\n          \"$0,97\"\n        ],\n        \"semantic_type\": \"\",\n        \"description\": \"\"\n      }\n    },\n    {\n      \"column\": \"Initiate Checkout (Facebook Pixel)\",\n      \"properties\": {\n        \"dtype\": \"number\",\n        \"std\": 20,\n        \"min\": 0,\n        \"max\": 640,\n        \"num_unique_values\": 153,\n        \"samples\": [\n          49,\n          68,\n          61\n        ],\n        \"semantic_type\": \"\",\n        \"description\": \"\"\n      }\n    },\n    {\n      \"column\": \"Cost per Initiate Checkout (Facebook Pixel) (USD)\",\n      \"properties\": {\n        \"dtype\": \"category\",\n        \"num_unique_values\": 1284,\n        \"samples\": [\n          \"$5,59\",\n          \"$22,43\",\n          \"$7,14\"\n        ],\n        \"semantic_type\": \"\",\n        \"description\": \"\"\n      }\n    },\n    {\n      \"column\": \"Purchase (Facebook Pixel)\",\n      \"properties\": {\n        \"dtype\": \"number\",\n        \"std\": 4,\n        \"min\": 0,\n        \"max\": 152,\n        \"num_unique_values\": 66,\n        \"samples\": [\n          12,\n          4,\n          0\n        ],\n        \"semantic_type\": \"\",\n        \"description\": \"\"\n      }\n    },\n    {\n      \"column\": \"Cost per Purchase (Facebook Pixel) (USD)\",\n      \"properties\": {\n        \"dtype\": \"category\",\n        \"num_unique_values\": 1429,\n        \"samples\": [\n          \"$11,16\",\n          \"$17,62\",\n          \"$16,61\"\n        ],\n        \"semantic_type\": \"\",\n        \"description\": \"\"\n      }\n    },\n    {\n      \"column\": \"Amount Spent (USD)\",\n      \"properties\": {\n        \"dtype\": \"category\",\n        \"num_unique_values\": 2662,\n        \"samples\": [\n          \"$88,07\",\n          \"$2,06\",\n          \"$12,64\"\n        ],\n        \"semantic_type\": \"\",\n        \"description\": \"\"\n      }\n    },\n    {\n      \"column\": \"Purchase Conversion Value (Facebook Pixel)\",\n      \"properties\": {\n        \"dtype\": \"category\",\n        \"num_unique_values\": 961,\n        \"samples\": [\n          \"$193,71\",\n          \"$150,53\",\n          \"$257,85\"\n        ],\n        \"semantic_type\": \"\",\n        \"description\": \"\"\n      }\n    }\n  ]\n}"
            }
          },
          "metadata": {},
          "execution_count": 10
        }
      ]
    },
    {
      "cell_type": "code",
      "source": [
        "# converter valores monetários\n",
        "def clean_currency(value):\n",
        "    if isinstance(value, str):\n",
        "        return float(value.replace('$', '').replace('.', '').replace(',', '.'))\n",
        "    return value"
      ],
      "metadata": {
        "id": "JFQ4rPWOpOsI"
      },
      "execution_count": null,
      "outputs": []
    },
    {
      "cell_type": "code",
      "source": [
        "ageData['Amount Spent (USD)'] = ageData['Amount Spent (USD)'].apply(clean_currency)\n",
        "ageData['Cost per Purchase (Facebook Pixel) (USD)'] = ageData['Cost per Purchase (Facebook Pixel) (USD)'].apply(clean_currency)\n",
        "ageData['Purchase Conversion Value (Facebook Pixel)'] = ageData['Purchase Conversion Value (Facebook Pixel)'].apply(clean_currency)\n",
        "ageData['Frequency'] = ageData['Frequency'].replace({',': '.'}, regex=True).astype(float)\n",
        "ageData['CTR (All)'] = ageData['CTR (All)'].replace({'%': '', ',': '.'}, regex=True).astype(float)\n"
      ],
      "metadata": {
        "id": "lK9xbBlSpZag"
      },
      "execution_count": null,
      "outputs": []
    },
    {
      "cell_type": "code",
      "source": [
        "ageData.info()"
      ],
      "metadata": {
        "colab": {
          "base_uri": "https://localhost:8080/"
        },
        "collapsed": true,
        "id": "ofrG4iDtYu3Q",
        "outputId": "894f2378-b7f7-4a3d-ba6c-87223e5608f1"
      },
      "execution_count": null,
      "outputs": [
        {
          "output_type": "stream",
          "name": "stdout",
          "text": [
            "<class 'pandas.core.frame.DataFrame'>\n",
            "RangeIndex: 11677 entries, 0 to 11676\n",
            "Data columns (total 20 columns):\n",
            " #   Column                                             Non-Null Count  Dtype  \n",
            "---  ------                                             --------------  -----  \n",
            " 0   Ad Set Name                                        4647 non-null   object \n",
            " 1   Age                                                4647 non-null   object \n",
            " 2   Result Rate                                        4647 non-null   object \n",
            " 3   Result Indicator                                   11677 non-null  object \n",
            " 4   Results                                            11677 non-null  int64  \n",
            " 5   Reach                                              11677 non-null  int64  \n",
            " 6   Frequency                                          11677 non-null  float64\n",
            " 7   Link Clicks                                        11677 non-null  int64  \n",
            " 8   CPC (Link) (USD)                                   11677 non-null  object \n",
            " 9   CPC (All) (USD)                                    11677 non-null  object \n",
            " 10  Cost per 1,000 People Reached (USD)                11677 non-null  object \n",
            " 11  CTR (All)                                          11677 non-null  float64\n",
            " 12  Add to Cart (Facebook Pixel)                       11677 non-null  int64  \n",
            " 13  Cost per Add To Cart (Facebook Pixel) (USD)        11677 non-null  object \n",
            " 14  Initiate Checkout (Facebook Pixel)                 11677 non-null  int64  \n",
            " 15  Cost per Initiate Checkout (Facebook Pixel) (USD)  11677 non-null  object \n",
            " 16  Purchase (Facebook Pixel)                          11677 non-null  int64  \n",
            " 17  Cost per Purchase (Facebook Pixel) (USD)           11677 non-null  float64\n",
            " 18  Amount Spent (USD)                                 11677 non-null  float64\n",
            " 19  Purchase Conversion Value (Facebook Pixel)         11677 non-null  float64\n",
            "dtypes: float64(5), int64(6), object(9)\n",
            "memory usage: 1.8+ MB\n"
          ]
        }
      ]
    },
    {
      "cell_type": "code",
      "source": [
        "ageData.describe()"
      ],
      "metadata": {
        "colab": {
          "base_uri": "https://localhost:8080/",
          "height": 369
        },
        "collapsed": true,
        "id": "UXD0bjc8dCBN",
        "outputId": "6aa23694-f156-4560-b7bf-d04cde99a130"
      },
      "execution_count": null,
      "outputs": [
        {
          "output_type": "execute_result",
          "data": {
            "text/plain": [
              "             Results         Reach    Frequency   Link Clicks    CTR (All)  \\\n",
              "count    4264.000000  4.264000e+03  4264.000000   4264.000000  4264.000000   \n",
              "mean      718.708724  2.638465e+04     2.100762    350.674719     2.284815   \n",
              "std     11896.308265  7.987698e+04     3.798382   1207.343846     3.207773   \n",
              "min         0.000000  0.000000e+00     0.000000      0.000000     0.000000   \n",
              "25%         0.000000  4.640000e+02     1.090000      4.000000     1.200000   \n",
              "50%         2.000000  3.775500e+03     1.270000     32.000000     1.900000   \n",
              "75%        19.000000  1.942500e+04     1.662500    187.000000     2.720000   \n",
              "max    430613.000000  2.169278e+06    79.780000  21955.000000   100.000000   \n",
              "\n",
              "       Add to Cart (Facebook Pixel)  Initiate Checkout (Facebook Pixel)  \\\n",
              "count                   4264.000000                         4264.000000   \n",
              "mean                      50.153143                            9.873593   \n",
              "std                      172.243529                           32.816999   \n",
              "min                        0.000000                            0.000000   \n",
              "25%                        0.000000                            0.000000   \n",
              "50%                        5.000000                            1.000000   \n",
              "75%                       29.000000                            6.000000   \n",
              "max                     3478.000000                          640.000000   \n",
              "\n",
              "       Purchase (Facebook Pixel)  Cost per Purchase (Facebook Pixel) (USD)  \\\n",
              "count                4264.000000                               4264.000000   \n",
              "mean                    2.221857                                 10.334547   \n",
              "std                     7.427342                                 19.688855   \n",
              "min                     0.000000                                  0.000000   \n",
              "25%                     0.000000                                  0.000000   \n",
              "50%                     0.000000                                  0.000000   \n",
              "75%                     1.000000                                 15.720000   \n",
              "max                   152.000000                                245.800000   \n",
              "\n",
              "       Amount Spent (USD)  Purchase Conversion Value (Facebook Pixel)  \\\n",
              "count         4264.000000                                 4264.000000   \n",
              "mean            49.836381                                   71.378865   \n",
              "std            126.864398                                  238.876484   \n",
              "min              0.010000                                    0.000000   \n",
              "25%              1.990000                                    0.000000   \n",
              "50%             10.280000                                    0.000000   \n",
              "75%             42.440000                                   49.275000   \n",
              "max           2754.530000                                 4660.310000   \n",
              "\n",
              "              ROAS  \n",
              "count  4264.000000  \n",
              "mean      1.173111  \n",
              "std       6.604067  \n",
              "min       0.000000  \n",
              "25%       0.000000  \n",
              "50%       0.000000  \n",
              "75%       1.105965  \n",
              "max     355.714286  "
            ],
            "text/html": [
              "\n",
              "  <div id=\"df-0c1cdcda-4d89-402d-981b-854ddb803354\" class=\"colab-df-container\">\n",
              "    <div>\n",
              "<style scoped>\n",
              "    .dataframe tbody tr th:only-of-type {\n",
              "        vertical-align: middle;\n",
              "    }\n",
              "\n",
              "    .dataframe tbody tr th {\n",
              "        vertical-align: top;\n",
              "    }\n",
              "\n",
              "    .dataframe thead th {\n",
              "        text-align: right;\n",
              "    }\n",
              "</style>\n",
              "<table border=\"1\" class=\"dataframe\">\n",
              "  <thead>\n",
              "    <tr style=\"text-align: right;\">\n",
              "      <th></th>\n",
              "      <th>Results</th>\n",
              "      <th>Reach</th>\n",
              "      <th>Frequency</th>\n",
              "      <th>Link Clicks</th>\n",
              "      <th>CTR (All)</th>\n",
              "      <th>Add to Cart (Facebook Pixel)</th>\n",
              "      <th>Initiate Checkout (Facebook Pixel)</th>\n",
              "      <th>Purchase (Facebook Pixel)</th>\n",
              "      <th>Cost per Purchase (Facebook Pixel) (USD)</th>\n",
              "      <th>Amount Spent (USD)</th>\n",
              "      <th>Purchase Conversion Value (Facebook Pixel)</th>\n",
              "      <th>ROAS</th>\n",
              "    </tr>\n",
              "  </thead>\n",
              "  <tbody>\n",
              "    <tr>\n",
              "      <th>count</th>\n",
              "      <td>4264.000000</td>\n",
              "      <td>4.264000e+03</td>\n",
              "      <td>4264.000000</td>\n",
              "      <td>4264.000000</td>\n",
              "      <td>4264.000000</td>\n",
              "      <td>4264.000000</td>\n",
              "      <td>4264.000000</td>\n",
              "      <td>4264.000000</td>\n",
              "      <td>4264.000000</td>\n",
              "      <td>4264.000000</td>\n",
              "      <td>4264.000000</td>\n",
              "      <td>4264.000000</td>\n",
              "    </tr>\n",
              "    <tr>\n",
              "      <th>mean</th>\n",
              "      <td>718.708724</td>\n",
              "      <td>2.638465e+04</td>\n",
              "      <td>2.100762</td>\n",
              "      <td>350.674719</td>\n",
              "      <td>2.284815</td>\n",
              "      <td>50.153143</td>\n",
              "      <td>9.873593</td>\n",
              "      <td>2.221857</td>\n",
              "      <td>10.334547</td>\n",
              "      <td>49.836381</td>\n",
              "      <td>71.378865</td>\n",
              "      <td>1.173111</td>\n",
              "    </tr>\n",
              "    <tr>\n",
              "      <th>std</th>\n",
              "      <td>11896.308265</td>\n",
              "      <td>7.987698e+04</td>\n",
              "      <td>3.798382</td>\n",
              "      <td>1207.343846</td>\n",
              "      <td>3.207773</td>\n",
              "      <td>172.243529</td>\n",
              "      <td>32.816999</td>\n",
              "      <td>7.427342</td>\n",
              "      <td>19.688855</td>\n",
              "      <td>126.864398</td>\n",
              "      <td>238.876484</td>\n",
              "      <td>6.604067</td>\n",
              "    </tr>\n",
              "    <tr>\n",
              "      <th>min</th>\n",
              "      <td>0.000000</td>\n",
              "      <td>0.000000e+00</td>\n",
              "      <td>0.000000</td>\n",
              "      <td>0.000000</td>\n",
              "      <td>0.000000</td>\n",
              "      <td>0.000000</td>\n",
              "      <td>0.000000</td>\n",
              "      <td>0.000000</td>\n",
              "      <td>0.000000</td>\n",
              "      <td>0.010000</td>\n",
              "      <td>0.000000</td>\n",
              "      <td>0.000000</td>\n",
              "    </tr>\n",
              "    <tr>\n",
              "      <th>25%</th>\n",
              "      <td>0.000000</td>\n",
              "      <td>4.640000e+02</td>\n",
              "      <td>1.090000</td>\n",
              "      <td>4.000000</td>\n",
              "      <td>1.200000</td>\n",
              "      <td>0.000000</td>\n",
              "      <td>0.000000</td>\n",
              "      <td>0.000000</td>\n",
              "      <td>0.000000</td>\n",
              "      <td>1.990000</td>\n",
              "      <td>0.000000</td>\n",
              "      <td>0.000000</td>\n",
              "    </tr>\n",
              "    <tr>\n",
              "      <th>50%</th>\n",
              "      <td>2.000000</td>\n",
              "      <td>3.775500e+03</td>\n",
              "      <td>1.270000</td>\n",
              "      <td>32.000000</td>\n",
              "      <td>1.900000</td>\n",
              "      <td>5.000000</td>\n",
              "      <td>1.000000</td>\n",
              "      <td>0.000000</td>\n",
              "      <td>0.000000</td>\n",
              "      <td>10.280000</td>\n",
              "      <td>0.000000</td>\n",
              "      <td>0.000000</td>\n",
              "    </tr>\n",
              "    <tr>\n",
              "      <th>75%</th>\n",
              "      <td>19.000000</td>\n",
              "      <td>1.942500e+04</td>\n",
              "      <td>1.662500</td>\n",
              "      <td>187.000000</td>\n",
              "      <td>2.720000</td>\n",
              "      <td>29.000000</td>\n",
              "      <td>6.000000</td>\n",
              "      <td>1.000000</td>\n",
              "      <td>15.720000</td>\n",
              "      <td>42.440000</td>\n",
              "      <td>49.275000</td>\n",
              "      <td>1.105965</td>\n",
              "    </tr>\n",
              "    <tr>\n",
              "      <th>max</th>\n",
              "      <td>430613.000000</td>\n",
              "      <td>2.169278e+06</td>\n",
              "      <td>79.780000</td>\n",
              "      <td>21955.000000</td>\n",
              "      <td>100.000000</td>\n",
              "      <td>3478.000000</td>\n",
              "      <td>640.000000</td>\n",
              "      <td>152.000000</td>\n",
              "      <td>245.800000</td>\n",
              "      <td>2754.530000</td>\n",
              "      <td>4660.310000</td>\n",
              "      <td>355.714286</td>\n",
              "    </tr>\n",
              "  </tbody>\n",
              "</table>\n",
              "</div>\n",
              "    <div class=\"colab-df-buttons\">\n",
              "\n",
              "  <div class=\"colab-df-container\">\n",
              "    <button class=\"colab-df-convert\" onclick=\"convertToInteractive('df-0c1cdcda-4d89-402d-981b-854ddb803354')\"\n",
              "            title=\"Convert this dataframe to an interactive table.\"\n",
              "            style=\"display:none;\">\n",
              "\n",
              "  <svg xmlns=\"http://www.w3.org/2000/svg\" height=\"24px\" viewBox=\"0 -960 960 960\">\n",
              "    <path d=\"M120-120v-720h720v720H120Zm60-500h600v-160H180v160Zm220 220h160v-160H400v160Zm0 220h160v-160H400v160ZM180-400h160v-160H180v160Zm440 0h160v-160H620v160ZM180-180h160v-160H180v160Zm440 0h160v-160H620v160Z\"/>\n",
              "  </svg>\n",
              "    </button>\n",
              "\n",
              "  <style>\n",
              "    .colab-df-container {\n",
              "      display:flex;\n",
              "      gap: 12px;\n",
              "    }\n",
              "\n",
              "    .colab-df-convert {\n",
              "      background-color: #E8F0FE;\n",
              "      border: none;\n",
              "      border-radius: 50%;\n",
              "      cursor: pointer;\n",
              "      display: none;\n",
              "      fill: #1967D2;\n",
              "      height: 32px;\n",
              "      padding: 0 0 0 0;\n",
              "      width: 32px;\n",
              "    }\n",
              "\n",
              "    .colab-df-convert:hover {\n",
              "      background-color: #E2EBFA;\n",
              "      box-shadow: 0px 1px 2px rgba(60, 64, 67, 0.3), 0px 1px 3px 1px rgba(60, 64, 67, 0.15);\n",
              "      fill: #174EA6;\n",
              "    }\n",
              "\n",
              "    .colab-df-buttons div {\n",
              "      margin-bottom: 4px;\n",
              "    }\n",
              "\n",
              "    [theme=dark] .colab-df-convert {\n",
              "      background-color: #3B4455;\n",
              "      fill: #D2E3FC;\n",
              "    }\n",
              "\n",
              "    [theme=dark] .colab-df-convert:hover {\n",
              "      background-color: #434B5C;\n",
              "      box-shadow: 0px 1px 3px 1px rgba(0, 0, 0, 0.15);\n",
              "      filter: drop-shadow(0px 1px 2px rgba(0, 0, 0, 0.3));\n",
              "      fill: #FFFFFF;\n",
              "    }\n",
              "  </style>\n",
              "\n",
              "    <script>\n",
              "      const buttonEl =\n",
              "        document.querySelector('#df-0c1cdcda-4d89-402d-981b-854ddb803354 button.colab-df-convert');\n",
              "      buttonEl.style.display =\n",
              "        google.colab.kernel.accessAllowed ? 'block' : 'none';\n",
              "\n",
              "      async function convertToInteractive(key) {\n",
              "        const element = document.querySelector('#df-0c1cdcda-4d89-402d-981b-854ddb803354');\n",
              "        const dataTable =\n",
              "          await google.colab.kernel.invokeFunction('convertToInteractive',\n",
              "                                                    [key], {});\n",
              "        if (!dataTable) return;\n",
              "\n",
              "        const docLinkHtml = 'Like what you see? Visit the ' +\n",
              "          '<a target=\"_blank\" href=https://colab.research.google.com/notebooks/data_table.ipynb>data table notebook</a>'\n",
              "          + ' to learn more about interactive tables.';\n",
              "        element.innerHTML = '';\n",
              "        dataTable['output_type'] = 'display_data';\n",
              "        await google.colab.output.renderOutput(dataTable, element);\n",
              "        const docLink = document.createElement('div');\n",
              "        docLink.innerHTML = docLinkHtml;\n",
              "        element.appendChild(docLink);\n",
              "      }\n",
              "    </script>\n",
              "  </div>\n",
              "\n",
              "\n",
              "<div id=\"df-e7e6a22b-4ea9-48ed-9832-ca78fe9b2b1c\">\n",
              "  <button class=\"colab-df-quickchart\" onclick=\"quickchart('df-e7e6a22b-4ea9-48ed-9832-ca78fe9b2b1c')\"\n",
              "            title=\"Suggest charts\"\n",
              "            style=\"display:none;\">\n",
              "\n",
              "<svg xmlns=\"http://www.w3.org/2000/svg\" height=\"24px\"viewBox=\"0 0 24 24\"\n",
              "     width=\"24px\">\n",
              "    <g>\n",
              "        <path d=\"M19 3H5c-1.1 0-2 .9-2 2v14c0 1.1.9 2 2 2h14c1.1 0 2-.9 2-2V5c0-1.1-.9-2-2-2zM9 17H7v-7h2v7zm4 0h-2V7h2v10zm4 0h-2v-4h2v4z\"/>\n",
              "    </g>\n",
              "</svg>\n",
              "  </button>\n",
              "\n",
              "<style>\n",
              "  .colab-df-quickchart {\n",
              "      --bg-color: #E8F0FE;\n",
              "      --fill-color: #1967D2;\n",
              "      --hover-bg-color: #E2EBFA;\n",
              "      --hover-fill-color: #174EA6;\n",
              "      --disabled-fill-color: #AAA;\n",
              "      --disabled-bg-color: #DDD;\n",
              "  }\n",
              "\n",
              "  [theme=dark] .colab-df-quickchart {\n",
              "      --bg-color: #3B4455;\n",
              "      --fill-color: #D2E3FC;\n",
              "      --hover-bg-color: #434B5C;\n",
              "      --hover-fill-color: #FFFFFF;\n",
              "      --disabled-bg-color: #3B4455;\n",
              "      --disabled-fill-color: #666;\n",
              "  }\n",
              "\n",
              "  .colab-df-quickchart {\n",
              "    background-color: var(--bg-color);\n",
              "    border: none;\n",
              "    border-radius: 50%;\n",
              "    cursor: pointer;\n",
              "    display: none;\n",
              "    fill: var(--fill-color);\n",
              "    height: 32px;\n",
              "    padding: 0;\n",
              "    width: 32px;\n",
              "  }\n",
              "\n",
              "  .colab-df-quickchart:hover {\n",
              "    background-color: var(--hover-bg-color);\n",
              "    box-shadow: 0 1px 2px rgba(60, 64, 67, 0.3), 0 1px 3px 1px rgba(60, 64, 67, 0.15);\n",
              "    fill: var(--button-hover-fill-color);\n",
              "  }\n",
              "\n",
              "  .colab-df-quickchart-complete:disabled,\n",
              "  .colab-df-quickchart-complete:disabled:hover {\n",
              "    background-color: var(--disabled-bg-color);\n",
              "    fill: var(--disabled-fill-color);\n",
              "    box-shadow: none;\n",
              "  }\n",
              "\n",
              "  .colab-df-spinner {\n",
              "    border: 2px solid var(--fill-color);\n",
              "    border-color: transparent;\n",
              "    border-bottom-color: var(--fill-color);\n",
              "    animation:\n",
              "      spin 1s steps(1) infinite;\n",
              "  }\n",
              "\n",
              "  @keyframes spin {\n",
              "    0% {\n",
              "      border-color: transparent;\n",
              "      border-bottom-color: var(--fill-color);\n",
              "      border-left-color: var(--fill-color);\n",
              "    }\n",
              "    20% {\n",
              "      border-color: transparent;\n",
              "      border-left-color: var(--fill-color);\n",
              "      border-top-color: var(--fill-color);\n",
              "    }\n",
              "    30% {\n",
              "      border-color: transparent;\n",
              "      border-left-color: var(--fill-color);\n",
              "      border-top-color: var(--fill-color);\n",
              "      border-right-color: var(--fill-color);\n",
              "    }\n",
              "    40% {\n",
              "      border-color: transparent;\n",
              "      border-right-color: var(--fill-color);\n",
              "      border-top-color: var(--fill-color);\n",
              "    }\n",
              "    60% {\n",
              "      border-color: transparent;\n",
              "      border-right-color: var(--fill-color);\n",
              "    }\n",
              "    80% {\n",
              "      border-color: transparent;\n",
              "      border-right-color: var(--fill-color);\n",
              "      border-bottom-color: var(--fill-color);\n",
              "    }\n",
              "    90% {\n",
              "      border-color: transparent;\n",
              "      border-bottom-color: var(--fill-color);\n",
              "    }\n",
              "  }\n",
              "</style>\n",
              "\n",
              "  <script>\n",
              "    async function quickchart(key) {\n",
              "      const quickchartButtonEl =\n",
              "        document.querySelector('#' + key + ' button');\n",
              "      quickchartButtonEl.disabled = true;  // To prevent multiple clicks.\n",
              "      quickchartButtonEl.classList.add('colab-df-spinner');\n",
              "      try {\n",
              "        const charts = await google.colab.kernel.invokeFunction(\n",
              "            'suggestCharts', [key], {});\n",
              "      } catch (error) {\n",
              "        console.error('Error during call to suggestCharts:', error);\n",
              "      }\n",
              "      quickchartButtonEl.classList.remove('colab-df-spinner');\n",
              "      quickchartButtonEl.classList.add('colab-df-quickchart-complete');\n",
              "    }\n",
              "    (() => {\n",
              "      let quickchartButtonEl =\n",
              "        document.querySelector('#df-e7e6a22b-4ea9-48ed-9832-ca78fe9b2b1c button');\n",
              "      quickchartButtonEl.style.display =\n",
              "        google.colab.kernel.accessAllowed ? 'block' : 'none';\n",
              "    })();\n",
              "  </script>\n",
              "</div>\n",
              "\n",
              "    </div>\n",
              "  </div>\n"
            ],
            "application/vnd.google.colaboratory.intrinsic+json": {
              "type": "dataframe",
              "summary": "{\n  \"name\": \"ageData\",\n  \"rows\": 8,\n  \"fields\": [\n    {\n      \"column\": \"Results\",\n      \"properties\": {\n        \"dtype\": \"number\",\n        \"std\": 151447.43971599438,\n        \"min\": 0.0,\n        \"max\": 430613.0,\n        \"num_unique_values\": 7,\n        \"samples\": [\n          4264.0,\n          718.7087242026266,\n          19.0\n        ],\n        \"semantic_type\": \"\",\n        \"description\": \"\"\n      }\n    },\n    {\n      \"column\": \"Reach\",\n      \"properties\": {\n        \"dtype\": \"number\",\n        \"std\": 760639.5640770206,\n        \"min\": 0.0,\n        \"max\": 2169278.0,\n        \"num_unique_values\": 8,\n        \"samples\": [\n          26384.649390243903,\n          3775.5,\n          4264.0\n        ],\n        \"semantic_type\": \"\",\n        \"description\": \"\"\n      }\n    },\n    {\n      \"column\": \"Frequency\",\n      \"properties\": {\n        \"dtype\": \"number\",\n        \"std\": 1503.2700310188593,\n        \"min\": 0.0,\n        \"max\": 4264.0,\n        \"num_unique_values\": 8,\n        \"samples\": [\n          2.1007621951219515,\n          1.27,\n          4264.0\n        ],\n        \"semantic_type\": \"\",\n        \"description\": \"\"\n      }\n    },\n    {\n      \"column\": \"Link Clicks\",\n      \"properties\": {\n        \"dtype\": \"number\",\n        \"std\": 7595.301667738662,\n        \"min\": 0.0,\n        \"max\": 21955.0,\n        \"num_unique_values\": 8,\n        \"samples\": [\n          350.6747185741088,\n          32.0,\n          4264.0\n        ],\n        \"semantic_type\": \"\",\n        \"description\": \"\"\n      }\n    },\n    {\n      \"column\": \"CTR (All)\",\n      \"properties\": {\n        \"dtype\": \"number\",\n        \"std\": 1502.322199080917,\n        \"min\": 0.0,\n        \"max\": 4264.0,\n        \"num_unique_values\": 8,\n        \"samples\": [\n          2.284814727954972,\n          1.9,\n          4264.0\n        ],\n        \"semantic_type\": \"\",\n        \"description\": \"\"\n      }\n    },\n    {\n      \"column\": \"Add to Cart (Facebook Pixel)\",\n      \"properties\": {\n        \"dtype\": \"number\",\n        \"std\": 1785.434541217348,\n        \"min\": 0.0,\n        \"max\": 4264.0,\n        \"num_unique_values\": 7,\n        \"samples\": [\n          4264.0,\n          50.1531425891182,\n          29.0\n        ],\n        \"semantic_type\": \"\",\n        \"description\": \"\"\n      }\n    },\n    {\n      \"column\": \"Initiate Checkout (Facebook Pixel)\",\n      \"properties\": {\n        \"dtype\": \"number\",\n        \"std\": 1489.2532229128408,\n        \"min\": 0.0,\n        \"max\": 4264.0,\n        \"num_unique_values\": 7,\n        \"samples\": [\n          4264.0,\n          9.87359287054409,\n          6.0\n        ],\n        \"semantic_type\": \"\",\n        \"description\": \"\"\n      }\n    },\n    {\n      \"column\": \"Purchase (Facebook Pixel)\",\n      \"properties\": {\n        \"dtype\": \"number\",\n        \"std\": 1500.25989227166,\n        \"min\": 0.0,\n        \"max\": 4264.0,\n        \"num_unique_values\": 6,\n        \"samples\": [\n          4264.0,\n          2.221857410881801,\n          152.0\n        ],\n        \"semantic_type\": \"\",\n        \"description\": \"\"\n      }\n    },\n    {\n      \"column\": \"Cost per Purchase (Facebook Pixel) (USD)\",\n      \"properties\": {\n        \"dtype\": \"number\",\n        \"std\": 1495.1699975369304,\n        \"min\": 0.0,\n        \"max\": 4264.0,\n        \"num_unique_values\": 6,\n        \"samples\": [\n          4264.0,\n          10.33454737335835,\n          245.8\n        ],\n        \"semantic_type\": \"\",\n        \"description\": \"\"\n      }\n    },\n    {\n      \"column\": \"Amount Spent (USD)\",\n      \"properties\": {\n        \"dtype\": \"number\",\n        \"std\": 1656.9937178007099,\n        \"min\": 0.01,\n        \"max\": 4264.0,\n        \"num_unique_values\": 8,\n        \"samples\": [\n          49.83638133208254,\n          10.28,\n          4264.0\n        ],\n        \"semantic_type\": \"\",\n        \"description\": \"\"\n      }\n    },\n    {\n      \"column\": \"Purchase Conversion Value (Facebook Pixel)\",\n      \"properties\": {\n        \"dtype\": \"number\",\n        \"std\": 2042.0948202808918,\n        \"min\": 0.0,\n        \"max\": 4660.31,\n        \"num_unique_values\": 6,\n        \"samples\": [\n          4264.0,\n          71.37886491557222,\n          4660.31\n        ],\n        \"semantic_type\": \"\",\n        \"description\": \"\"\n      }\n    },\n    {\n      \"column\": \"ROAS\",\n      \"properties\": {\n        \"dtype\": \"number\",\n        \"std\": 1494.2884400952744,\n        \"min\": 0.0,\n        \"max\": 4264.0,\n        \"num_unique_values\": 6,\n        \"samples\": [\n          4264.0,\n          1.1731114635539992,\n          355.71428571428567\n        ],\n        \"semantic_type\": \"\",\n        \"description\": \"\"\n      }\n    }\n  ]\n}"
            }
          },
          "metadata": {},
          "execution_count": 9
        }
      ]
    },
    {
      "cell_type": "code",
      "source": [
        "ageData.isna().sum()"
      ],
      "metadata": {
        "colab": {
          "base_uri": "https://localhost:8080/"
        },
        "collapsed": true,
        "id": "w_iHAx5AaL7K",
        "outputId": "914926f6-f7d3-4e46-fc2c-220e4eca7506"
      },
      "execution_count": null,
      "outputs": [
        {
          "output_type": "execute_result",
          "data": {
            "text/plain": [
              "Ad Set Name                                          7030\n",
              "Age                                                  7030\n",
              "Result Rate                                          7030\n",
              "Result Indicator                                        0\n",
              "Results                                                 0\n",
              "Reach                                                   0\n",
              "Frequency                                               0\n",
              "Link Clicks                                             0\n",
              "CPC (Link) (USD)                                        0\n",
              "CPC (All) (USD)                                         0\n",
              "Cost per 1,000 People Reached (USD)                     0\n",
              "CTR (All)                                               0\n",
              "Add to Cart (Facebook Pixel)                            0\n",
              "Cost per Add To Cart (Facebook Pixel) (USD)             0\n",
              "Initiate Checkout (Facebook Pixel)                      0\n",
              "Cost per Initiate Checkout (Facebook Pixel) (USD)       0\n",
              "Purchase (Facebook Pixel)                               0\n",
              "Cost per Purchase (Facebook Pixel) (USD)                0\n",
              "Amount Spent (USD)                                      0\n",
              "Purchase Conversion Value (Facebook Pixel)              0\n",
              "dtype: int64"
            ]
          },
          "metadata": {},
          "execution_count": 13
        }
      ]
    },
    {
      "cell_type": "code",
      "source": [
        "ageData = ageData.dropna()\n",
        "ageData.info()"
      ],
      "metadata": {
        "colab": {
          "base_uri": "https://localhost:8080/"
        },
        "collapsed": true,
        "id": "OISC_VNSaRdw",
        "outputId": "1ccbec73-84d6-439d-f461-0cc7da6f1ade"
      },
      "execution_count": null,
      "outputs": [
        {
          "output_type": "stream",
          "name": "stdout",
          "text": [
            "<class 'pandas.core.frame.DataFrame'>\n",
            "Index: 4647 entries, 0 to 4646\n",
            "Data columns (total 20 columns):\n",
            " #   Column                                             Non-Null Count  Dtype  \n",
            "---  ------                                             --------------  -----  \n",
            " 0   Ad Set Name                                        4647 non-null   object \n",
            " 1   Age                                                4647 non-null   object \n",
            " 2   Result Rate                                        4647 non-null   object \n",
            " 3   Result Indicator                                   4647 non-null   object \n",
            " 4   Results                                            4647 non-null   int64  \n",
            " 5   Reach                                              4647 non-null   int64  \n",
            " 6   Frequency                                          4647 non-null   float64\n",
            " 7   Link Clicks                                        4647 non-null   int64  \n",
            " 8   CPC (Link) (USD)                                   4647 non-null   object \n",
            " 9   CPC (All) (USD)                                    4647 non-null   object \n",
            " 10  Cost per 1,000 People Reached (USD)                4647 non-null   object \n",
            " 11  CTR (All)                                          4647 non-null   float64\n",
            " 12  Add to Cart (Facebook Pixel)                       4647 non-null   int64  \n",
            " 13  Cost per Add To Cart (Facebook Pixel) (USD)        4647 non-null   object \n",
            " 14  Initiate Checkout (Facebook Pixel)                 4647 non-null   int64  \n",
            " 15  Cost per Initiate Checkout (Facebook Pixel) (USD)  4647 non-null   object \n",
            " 16  Purchase (Facebook Pixel)                          4647 non-null   int64  \n",
            " 17  Cost per Purchase (Facebook Pixel) (USD)           4647 non-null   float64\n",
            " 18  Amount Spent (USD)                                 4647 non-null   float64\n",
            " 19  Purchase Conversion Value (Facebook Pixel)         4647 non-null   float64\n",
            "dtypes: float64(5), int64(6), object(9)\n",
            "memory usage: 762.4+ KB\n"
          ]
        }
      ]
    },
    {
      "cell_type": "code",
      "source": [
        "# Calcular ROAS (Return on Ad Spend)\n",
        "ageData['ROAS'] = ageData['Purchase Conversion Value (Facebook Pixel)'] / ageData['Amount Spent (USD)']"
      ],
      "metadata": {
        "id": "ikkxWFneFQJy"
      },
      "execution_count": null,
      "outputs": []
    },
    {
      "cell_type": "code",
      "source": [
        "ageData.astype('object').describe()"
      ],
      "metadata": {
        "colab": {
          "base_uri": "https://localhost:8080/",
          "height": 397
        },
        "collapsed": true,
        "id": "6wTqdMoEdKLK",
        "outputId": "d678101f-1aba-42d8-e5ce-bf5eaaefbd90"
      },
      "execution_count": null,
      "outputs": [
        {
          "output_type": "execute_result",
          "data": {
            "text/plain": [
              "                                              Ad Set Name    Age Result Rate  \\\n",
              "count                                                4647   4647        4647   \n",
              "unique                                               1071      7         574   \n",
              "top     LC Checkout-Conversion 04/09/2016 (Europe, Bal...  25-34       0,00%   \n",
              "freq                                                    9   1088        1995   \n",
              "\n",
              "       Result Indicator  Results  Reach  Frequency  Link Clicks  \\\n",
              "count              4647     4647   4647     4647.0         4647   \n",
              "unique                8      451   3075      511.0          935   \n",
              "top                   -        0      0        0.0            0   \n",
              "freq               1902     1902    404      404.0          889   \n",
              "\n",
              "       CPC (Link) (USD) CPC (All) (USD)  ... CTR (All)  \\\n",
              "count              4647            4647  ...    4647.0   \n",
              "unique              245             126  ...     620.0   \n",
              "top               $0,00           $0,00  ...       0.0   \n",
              "freq                903             763  ...     697.0   \n",
              "\n",
              "        Add to Cart (Facebook Pixel)  \\\n",
              "count                           4647   \n",
              "unique                           388   \n",
              "top                                0   \n",
              "freq                            1789   \n",
              "\n",
              "        Cost per Add To Cart (Facebook Pixel) (USD)  \\\n",
              "count                                          4647   \n",
              "unique                                          700   \n",
              "top                                           $0,00   \n",
              "freq                                           1790   \n",
              "\n",
              "       Initiate Checkout (Facebook Pixel)  \\\n",
              "count                                4647   \n",
              "unique                                153   \n",
              "top                                     0   \n",
              "freq                                 2338   \n",
              "\n",
              "        Cost per Initiate Checkout (Facebook Pixel) (USD)  \\\n",
              "count                                                4647   \n",
              "unique                                               1284   \n",
              "top                                                 $0,00   \n",
              "freq                                                 2338   \n",
              "\n",
              "       Purchase (Facebook Pixel)  Cost per Purchase (Facebook Pixel) (USD)  \\\n",
              "count                       4647                                    4647.0   \n",
              "unique                        66                                    1429.0   \n",
              "top                            0                                       0.0   \n",
              "freq                        2994                                    2994.0   \n",
              "\n",
              "        Amount Spent (USD)  Purchase Conversion Value (Facebook Pixel)    ROAS  \n",
              "count               4647.0                                      4647.0  4264.0  \n",
              "unique              2662.0                                       960.0  1647.0  \n",
              "top                    0.0                                         0.0     0.0  \n",
              "freq                 383.0                                      2994.0  2611.0  \n",
              "\n",
              "[4 rows x 21 columns]"
            ],
            "text/html": [
              "\n",
              "  <div id=\"df-8b0013e2-4564-4fd7-992f-0d1c918ddf54\" class=\"colab-df-container\">\n",
              "    <div>\n",
              "<style scoped>\n",
              "    .dataframe tbody tr th:only-of-type {\n",
              "        vertical-align: middle;\n",
              "    }\n",
              "\n",
              "    .dataframe tbody tr th {\n",
              "        vertical-align: top;\n",
              "    }\n",
              "\n",
              "    .dataframe thead th {\n",
              "        text-align: right;\n",
              "    }\n",
              "</style>\n",
              "<table border=\"1\" class=\"dataframe\">\n",
              "  <thead>\n",
              "    <tr style=\"text-align: right;\">\n",
              "      <th></th>\n",
              "      <th>Ad Set Name</th>\n",
              "      <th>Age</th>\n",
              "      <th>Result Rate</th>\n",
              "      <th>Result Indicator</th>\n",
              "      <th>Results</th>\n",
              "      <th>Reach</th>\n",
              "      <th>Frequency</th>\n",
              "      <th>Link Clicks</th>\n",
              "      <th>CPC (Link) (USD)</th>\n",
              "      <th>CPC (All) (USD)</th>\n",
              "      <th>...</th>\n",
              "      <th>CTR (All)</th>\n",
              "      <th>Add to Cart (Facebook Pixel)</th>\n",
              "      <th>Cost per Add To Cart (Facebook Pixel) (USD)</th>\n",
              "      <th>Initiate Checkout (Facebook Pixel)</th>\n",
              "      <th>Cost per Initiate Checkout (Facebook Pixel) (USD)</th>\n",
              "      <th>Purchase (Facebook Pixel)</th>\n",
              "      <th>Cost per Purchase (Facebook Pixel) (USD)</th>\n",
              "      <th>Amount Spent (USD)</th>\n",
              "      <th>Purchase Conversion Value (Facebook Pixel)</th>\n",
              "      <th>ROAS</th>\n",
              "    </tr>\n",
              "  </thead>\n",
              "  <tbody>\n",
              "    <tr>\n",
              "      <th>count</th>\n",
              "      <td>4647</td>\n",
              "      <td>4647</td>\n",
              "      <td>4647</td>\n",
              "      <td>4647</td>\n",
              "      <td>4647</td>\n",
              "      <td>4647</td>\n",
              "      <td>4647.0</td>\n",
              "      <td>4647</td>\n",
              "      <td>4647</td>\n",
              "      <td>4647</td>\n",
              "      <td>...</td>\n",
              "      <td>4647.0</td>\n",
              "      <td>4647</td>\n",
              "      <td>4647</td>\n",
              "      <td>4647</td>\n",
              "      <td>4647</td>\n",
              "      <td>4647</td>\n",
              "      <td>4647.0</td>\n",
              "      <td>4647.0</td>\n",
              "      <td>4647.0</td>\n",
              "      <td>4264.0</td>\n",
              "    </tr>\n",
              "    <tr>\n",
              "      <th>unique</th>\n",
              "      <td>1071</td>\n",
              "      <td>7</td>\n",
              "      <td>574</td>\n",
              "      <td>8</td>\n",
              "      <td>451</td>\n",
              "      <td>3075</td>\n",
              "      <td>511.0</td>\n",
              "      <td>935</td>\n",
              "      <td>245</td>\n",
              "      <td>126</td>\n",
              "      <td>...</td>\n",
              "      <td>620.0</td>\n",
              "      <td>388</td>\n",
              "      <td>700</td>\n",
              "      <td>153</td>\n",
              "      <td>1284</td>\n",
              "      <td>66</td>\n",
              "      <td>1429.0</td>\n",
              "      <td>2662.0</td>\n",
              "      <td>960.0</td>\n",
              "      <td>1647.0</td>\n",
              "    </tr>\n",
              "    <tr>\n",
              "      <th>top</th>\n",
              "      <td>LC Checkout-Conversion 04/09/2016 (Europe, Bal...</td>\n",
              "      <td>25-34</td>\n",
              "      <td>0,00%</td>\n",
              "      <td>-</td>\n",
              "      <td>0</td>\n",
              "      <td>0</td>\n",
              "      <td>0.0</td>\n",
              "      <td>0</td>\n",
              "      <td>$0,00</td>\n",
              "      <td>$0,00</td>\n",
              "      <td>...</td>\n",
              "      <td>0.0</td>\n",
              "      <td>0</td>\n",
              "      <td>$0,00</td>\n",
              "      <td>0</td>\n",
              "      <td>$0,00</td>\n",
              "      <td>0</td>\n",
              "      <td>0.0</td>\n",
              "      <td>0.0</td>\n",
              "      <td>0.0</td>\n",
              "      <td>0.0</td>\n",
              "    </tr>\n",
              "    <tr>\n",
              "      <th>freq</th>\n",
              "      <td>9</td>\n",
              "      <td>1088</td>\n",
              "      <td>1995</td>\n",
              "      <td>1902</td>\n",
              "      <td>1902</td>\n",
              "      <td>404</td>\n",
              "      <td>404.0</td>\n",
              "      <td>889</td>\n",
              "      <td>903</td>\n",
              "      <td>763</td>\n",
              "      <td>...</td>\n",
              "      <td>697.0</td>\n",
              "      <td>1789</td>\n",
              "      <td>1790</td>\n",
              "      <td>2338</td>\n",
              "      <td>2338</td>\n",
              "      <td>2994</td>\n",
              "      <td>2994.0</td>\n",
              "      <td>383.0</td>\n",
              "      <td>2994.0</td>\n",
              "      <td>2611.0</td>\n",
              "    </tr>\n",
              "  </tbody>\n",
              "</table>\n",
              "<p>4 rows × 21 columns</p>\n",
              "</div>\n",
              "    <div class=\"colab-df-buttons\">\n",
              "\n",
              "  <div class=\"colab-df-container\">\n",
              "    <button class=\"colab-df-convert\" onclick=\"convertToInteractive('df-8b0013e2-4564-4fd7-992f-0d1c918ddf54')\"\n",
              "            title=\"Convert this dataframe to an interactive table.\"\n",
              "            style=\"display:none;\">\n",
              "\n",
              "  <svg xmlns=\"http://www.w3.org/2000/svg\" height=\"24px\" viewBox=\"0 -960 960 960\">\n",
              "    <path d=\"M120-120v-720h720v720H120Zm60-500h600v-160H180v160Zm220 220h160v-160H400v160Zm0 220h160v-160H400v160ZM180-400h160v-160H180v160Zm440 0h160v-160H620v160ZM180-180h160v-160H180v160Zm440 0h160v-160H620v160Z\"/>\n",
              "  </svg>\n",
              "    </button>\n",
              "\n",
              "  <style>\n",
              "    .colab-df-container {\n",
              "      display:flex;\n",
              "      gap: 12px;\n",
              "    }\n",
              "\n",
              "    .colab-df-convert {\n",
              "      background-color: #E8F0FE;\n",
              "      border: none;\n",
              "      border-radius: 50%;\n",
              "      cursor: pointer;\n",
              "      display: none;\n",
              "      fill: #1967D2;\n",
              "      height: 32px;\n",
              "      padding: 0 0 0 0;\n",
              "      width: 32px;\n",
              "    }\n",
              "\n",
              "    .colab-df-convert:hover {\n",
              "      background-color: #E2EBFA;\n",
              "      box-shadow: 0px 1px 2px rgba(60, 64, 67, 0.3), 0px 1px 3px 1px rgba(60, 64, 67, 0.15);\n",
              "      fill: #174EA6;\n",
              "    }\n",
              "\n",
              "    .colab-df-buttons div {\n",
              "      margin-bottom: 4px;\n",
              "    }\n",
              "\n",
              "    [theme=dark] .colab-df-convert {\n",
              "      background-color: #3B4455;\n",
              "      fill: #D2E3FC;\n",
              "    }\n",
              "\n",
              "    [theme=dark] .colab-df-convert:hover {\n",
              "      background-color: #434B5C;\n",
              "      box-shadow: 0px 1px 3px 1px rgba(0, 0, 0, 0.15);\n",
              "      filter: drop-shadow(0px 1px 2px rgba(0, 0, 0, 0.3));\n",
              "      fill: #FFFFFF;\n",
              "    }\n",
              "  </style>\n",
              "\n",
              "    <script>\n",
              "      const buttonEl =\n",
              "        document.querySelector('#df-8b0013e2-4564-4fd7-992f-0d1c918ddf54 button.colab-df-convert');\n",
              "      buttonEl.style.display =\n",
              "        google.colab.kernel.accessAllowed ? 'block' : 'none';\n",
              "\n",
              "      async function convertToInteractive(key) {\n",
              "        const element = document.querySelector('#df-8b0013e2-4564-4fd7-992f-0d1c918ddf54');\n",
              "        const dataTable =\n",
              "          await google.colab.kernel.invokeFunction('convertToInteractive',\n",
              "                                                    [key], {});\n",
              "        if (!dataTable) return;\n",
              "\n",
              "        const docLinkHtml = 'Like what you see? Visit the ' +\n",
              "          '<a target=\"_blank\" href=https://colab.research.google.com/notebooks/data_table.ipynb>data table notebook</a>'\n",
              "          + ' to learn more about interactive tables.';\n",
              "        element.innerHTML = '';\n",
              "        dataTable['output_type'] = 'display_data';\n",
              "        await google.colab.output.renderOutput(dataTable, element);\n",
              "        const docLink = document.createElement('div');\n",
              "        docLink.innerHTML = docLinkHtml;\n",
              "        element.appendChild(docLink);\n",
              "      }\n",
              "    </script>\n",
              "  </div>\n",
              "\n",
              "\n",
              "<div id=\"df-8ea2d90a-11b7-40ad-86d1-d8f7a99ac2c1\">\n",
              "  <button class=\"colab-df-quickchart\" onclick=\"quickchart('df-8ea2d90a-11b7-40ad-86d1-d8f7a99ac2c1')\"\n",
              "            title=\"Suggest charts\"\n",
              "            style=\"display:none;\">\n",
              "\n",
              "<svg xmlns=\"http://www.w3.org/2000/svg\" height=\"24px\"viewBox=\"0 0 24 24\"\n",
              "     width=\"24px\">\n",
              "    <g>\n",
              "        <path d=\"M19 3H5c-1.1 0-2 .9-2 2v14c0 1.1.9 2 2 2h14c1.1 0 2-.9 2-2V5c0-1.1-.9-2-2-2zM9 17H7v-7h2v7zm4 0h-2V7h2v10zm4 0h-2v-4h2v4z\"/>\n",
              "    </g>\n",
              "</svg>\n",
              "  </button>\n",
              "\n",
              "<style>\n",
              "  .colab-df-quickchart {\n",
              "      --bg-color: #E8F0FE;\n",
              "      --fill-color: #1967D2;\n",
              "      --hover-bg-color: #E2EBFA;\n",
              "      --hover-fill-color: #174EA6;\n",
              "      --disabled-fill-color: #AAA;\n",
              "      --disabled-bg-color: #DDD;\n",
              "  }\n",
              "\n",
              "  [theme=dark] .colab-df-quickchart {\n",
              "      --bg-color: #3B4455;\n",
              "      --fill-color: #D2E3FC;\n",
              "      --hover-bg-color: #434B5C;\n",
              "      --hover-fill-color: #FFFFFF;\n",
              "      --disabled-bg-color: #3B4455;\n",
              "      --disabled-fill-color: #666;\n",
              "  }\n",
              "\n",
              "  .colab-df-quickchart {\n",
              "    background-color: var(--bg-color);\n",
              "    border: none;\n",
              "    border-radius: 50%;\n",
              "    cursor: pointer;\n",
              "    display: none;\n",
              "    fill: var(--fill-color);\n",
              "    height: 32px;\n",
              "    padding: 0;\n",
              "    width: 32px;\n",
              "  }\n",
              "\n",
              "  .colab-df-quickchart:hover {\n",
              "    background-color: var(--hover-bg-color);\n",
              "    box-shadow: 0 1px 2px rgba(60, 64, 67, 0.3), 0 1px 3px 1px rgba(60, 64, 67, 0.15);\n",
              "    fill: var(--button-hover-fill-color);\n",
              "  }\n",
              "\n",
              "  .colab-df-quickchart-complete:disabled,\n",
              "  .colab-df-quickchart-complete:disabled:hover {\n",
              "    background-color: var(--disabled-bg-color);\n",
              "    fill: var(--disabled-fill-color);\n",
              "    box-shadow: none;\n",
              "  }\n",
              "\n",
              "  .colab-df-spinner {\n",
              "    border: 2px solid var(--fill-color);\n",
              "    border-color: transparent;\n",
              "    border-bottom-color: var(--fill-color);\n",
              "    animation:\n",
              "      spin 1s steps(1) infinite;\n",
              "  }\n",
              "\n",
              "  @keyframes spin {\n",
              "    0% {\n",
              "      border-color: transparent;\n",
              "      border-bottom-color: var(--fill-color);\n",
              "      border-left-color: var(--fill-color);\n",
              "    }\n",
              "    20% {\n",
              "      border-color: transparent;\n",
              "      border-left-color: var(--fill-color);\n",
              "      border-top-color: var(--fill-color);\n",
              "    }\n",
              "    30% {\n",
              "      border-color: transparent;\n",
              "      border-left-color: var(--fill-color);\n",
              "      border-top-color: var(--fill-color);\n",
              "      border-right-color: var(--fill-color);\n",
              "    }\n",
              "    40% {\n",
              "      border-color: transparent;\n",
              "      border-right-color: var(--fill-color);\n",
              "      border-top-color: var(--fill-color);\n",
              "    }\n",
              "    60% {\n",
              "      border-color: transparent;\n",
              "      border-right-color: var(--fill-color);\n",
              "    }\n",
              "    80% {\n",
              "      border-color: transparent;\n",
              "      border-right-color: var(--fill-color);\n",
              "      border-bottom-color: var(--fill-color);\n",
              "    }\n",
              "    90% {\n",
              "      border-color: transparent;\n",
              "      border-bottom-color: var(--fill-color);\n",
              "    }\n",
              "  }\n",
              "</style>\n",
              "\n",
              "  <script>\n",
              "    async function quickchart(key) {\n",
              "      const quickchartButtonEl =\n",
              "        document.querySelector('#' + key + ' button');\n",
              "      quickchartButtonEl.disabled = true;  // To prevent multiple clicks.\n",
              "      quickchartButtonEl.classList.add('colab-df-spinner');\n",
              "      try {\n",
              "        const charts = await google.colab.kernel.invokeFunction(\n",
              "            'suggestCharts', [key], {});\n",
              "      } catch (error) {\n",
              "        console.error('Error during call to suggestCharts:', error);\n",
              "      }\n",
              "      quickchartButtonEl.classList.remove('colab-df-spinner');\n",
              "      quickchartButtonEl.classList.add('colab-df-quickchart-complete');\n",
              "    }\n",
              "    (() => {\n",
              "      let quickchartButtonEl =\n",
              "        document.querySelector('#df-8ea2d90a-11b7-40ad-86d1-d8f7a99ac2c1 button');\n",
              "      quickchartButtonEl.style.display =\n",
              "        google.colab.kernel.accessAllowed ? 'block' : 'none';\n",
              "    })();\n",
              "  </script>\n",
              "</div>\n",
              "\n",
              "    </div>\n",
              "  </div>\n"
            ],
            "application/vnd.google.colaboratory.intrinsic+json": {
              "type": "dataframe"
            }
          },
          "metadata": {},
          "execution_count": 16
        }
      ]
    },
    {
      "cell_type": "markdown",
      "source": [
        "## **Por Idade**"
      ],
      "metadata": {
        "id": "rDcRy6Fak94c"
      }
    },
    {
      "cell_type": "code",
      "source": [
        "mode_age = ageData['Age'].value_counts()\n",
        "mode_age.columns = ['Mode']\n",
        "print(f'Mode:', mode_age.idxmax())"
      ],
      "metadata": {
        "colab": {
          "base_uri": "https://localhost:8080/"
        },
        "id": "R_0cBcQCdTa_",
        "outputId": "3437e377-17d3-4759-b2f5-b7cc317bc2bd"
      },
      "execution_count": null,
      "outputs": [
        {
          "output_type": "stream",
          "name": "stdout",
          "text": [
            "Mode: 25-34\n"
          ]
        }
      ]
    },
    {
      "cell_type": "markdown",
      "source": [
        "**Purchases**"
      ],
      "metadata": {
        "id": "NvQy70QveP8k"
      }
    },
    {
      "cell_type": "code",
      "source": [
        "printed_ages = set()\n",
        "sum = 0\n",
        "\n",
        "print('Intervalo de idades com mais de 200 compras:')\n",
        "for age, count in mode_age.items():\n",
        "    if count > 200 and age not in printed_ages:\n",
        "        print(f\"Intervalo '{age}': Quantidade = {count}\")\n",
        "        sum+= count\n",
        "        printed_ages.add(age)\n",
        "\n",
        "print(f\"Total de compras: {sum}\")"
      ],
      "metadata": {
        "colab": {
          "base_uri": "https://localhost:8080/"
        },
        "id": "4OTHEmTy2CCv",
        "outputId": "9df6516d-7dd6-468d-83cf-4b36051e4489",
        "collapsed": true
      },
      "execution_count": null,
      "outputs": [
        {
          "output_type": "stream",
          "name": "stdout",
          "text": [
            "Intervalo de idades com mais de 200 compras:\n",
            "Intervalo '25-34': Quantidade = 1088\n",
            "Intervalo '18-24': Quantidade = 1081\n",
            "Intervalo '35-44': Quantidade = 1074\n",
            "Intervalo '13-17': Quantidade = 546\n",
            "Intervalo '45-54': Quantidade = 362\n",
            "Intervalo '65+': Quantidade = 260\n",
            "Intervalo '55-64': Quantidade = 236\n",
            "Total de compras: 4647\n"
          ]
        }
      ]
    },
    {
      "cell_type": "code",
      "source": [
        "mode_age_sorted = mode_age.sort_values(ascending=False)\n",
        "mode_age_sorted"
      ],
      "metadata": {
        "colab": {
          "base_uri": "https://localhost:8080/"
        },
        "id": "OLQsYvVcCYEL",
        "outputId": "d0546395-280f-493e-b181-53059722ce61",
        "collapsed": true
      },
      "execution_count": null,
      "outputs": [
        {
          "output_type": "execute_result",
          "data": {
            "text/plain": [
              "Age\n",
              "25-34    1088\n",
              "18-24    1081\n",
              "35-44    1074\n",
              "13-17     546\n",
              "45-54     362\n",
              "65+       260\n",
              "55-64     236\n",
              "Name: count, dtype: int64"
            ]
          },
          "metadata": {},
          "execution_count": 23
        }
      ]
    },
    {
      "cell_type": "markdown",
      "source": [
        "**Reach** -Número de pessoas únicas que viram o anúncio."
      ],
      "metadata": {
        "id": "_x60_9Y1eU3G"
      }
    },
    {
      "cell_type": "code",
      "source": [
        "mode_reach = ageData.groupby('Age')['Reach'].sum()"
      ],
      "metadata": {
        "id": "vLkDX2V-6Kbc"
      },
      "execution_count": null,
      "outputs": []
    },
    {
      "cell_type": "code",
      "source": [
        "printed_ages = set()\n",
        "sum_reach = 0\n",
        "\n",
        "print('Intervalo de idades com mais de 10000 alcances:')\n",
        "for age, reach in mode_reach.items():\n",
        "    if reach > 10000 and age not in printed_ages:\n",
        "        print(f\"Intervalo de idade:'{age}': Alcance = {reach}\")\n",
        "        sum_reach += reach\n",
        "        printed_ages.add(age)\n",
        "\n",
        "print(f\"Total de alcances: {sum_reach}\")"
      ],
      "metadata": {
        "colab": {
          "base_uri": "https://localhost:8080/"
        },
        "id": "LERNodTt6RTg",
        "outputId": "79c1b035-2714-4263-ff60-a1647b755d8c",
        "collapsed": true
      },
      "execution_count": null,
      "outputs": [
        {
          "output_type": "stream",
          "name": "stdout",
          "text": [
            "Intervalo de idades com mais de 10000 alcances:\n",
            "Intervalo de idade:'13-17': Alcance = 21751096\n",
            "Intervalo de idade:'18-24': Alcance = 57350927\n",
            "Intervalo de idade:'25-34': Alcance = 27071547\n",
            "Intervalo de idade:'35-44': Alcance = 5331565\n",
            "Intervalo de idade:'45-54': Alcance = 557577\n",
            "Intervalo de idade:'55-64': Alcance = 147352\n",
            "Intervalo de idade:'65+': Alcance = 294472\n",
            "Total de alcances: 112504536\n"
          ]
        }
      ]
    },
    {
      "cell_type": "code",
      "source": [
        "mode_reach_sorted = mode_reach.sort_values(ascending=False)\n",
        "mode_reach_sorted"
      ],
      "metadata": {
        "colab": {
          "base_uri": "https://localhost:8080/"
        },
        "id": "wIyVIEloCilG",
        "outputId": "7dca7b23-267b-4e3a-d272-9fe95161ddc7",
        "collapsed": true
      },
      "execution_count": null,
      "outputs": [
        {
          "output_type": "execute_result",
          "data": {
            "text/plain": [
              "Age\n",
              "18-24    57350927\n",
              "25-34    27071547\n",
              "13-17    21751096\n",
              "35-44     5331565\n",
              "45-54      557577\n",
              "65+        294472\n",
              "55-64      147352\n",
              "Name: Reach, dtype: int64"
            ]
          },
          "metadata": {},
          "execution_count": 27
        }
      ]
    },
    {
      "cell_type": "markdown",
      "source": [
        "**Amount Spent** - Quantia total gasta na campanha, expressa em dólares."
      ],
      "metadata": {
        "id": "GxAC6DNQeZEs"
      }
    },
    {
      "cell_type": "code",
      "source": [
        "# ageData['Amount Spent (USD)'] = pd.to_numeric(ageData['Amount Spent (USD)'].str.replace(',', '').str.replace('$', ''), errors='coerce')"
      ],
      "metadata": {
        "id": "Ff5jsZ6kCFBL"
      },
      "execution_count": null,
      "outputs": []
    },
    {
      "cell_type": "code",
      "source": [
        "mode_amount = ageData.groupby('Age')['Amount Spent (USD)'].sum()"
      ],
      "metadata": {
        "id": "ieueECUO64hL"
      },
      "execution_count": null,
      "outputs": []
    },
    {
      "cell_type": "code",
      "source": [
        "printed_ages = set()\n",
        "sum_amount = 0\n",
        "\n",
        "print('Intervalo de idade considerando o valor gasto na campanha:')\n",
        "for age, amount in mode_amount.items():\n",
        "    if amount > 1 and age not in printed_ages:\n",
        "        print(f\"Intervalo de idade '{age}': Quantidade Gasta (USD) = {amount}\")\n",
        "        sum_amount += amount\n",
        "        printed_ages.add(age)\n",
        "\n",
        "print(f\"Quantidade total: {sum_amount}\")"
      ],
      "metadata": {
        "colab": {
          "base_uri": "https://localhost:8080/"
        },
        "id": "eiqg6y997XaP",
        "outputId": "dea9260a-602e-4c77-9731-1d25723dca90",
        "collapsed": true
      },
      "execution_count": null,
      "outputs": [
        {
          "output_type": "stream",
          "name": "stdout",
          "text": [
            "Intervalo de idade considerando o valor gasto na campanha:\n",
            "Intervalo de idade '13-17': Quantidade Gasta (USD) = 29088.0\n",
            "Intervalo de idade '18-24': Quantidade Gasta (USD) = 98947.94\n",
            "Intervalo de idade '25-34': Quantidade Gasta (USD) = 69352.53\n",
            "Intervalo de idade '35-44': Quantidade Gasta (USD) = 13608.01\n",
            "Intervalo de idade '45-54': Quantidade Gasta (USD) = 1087.07\n",
            "Intervalo de idade '55-64': Quantidade Gasta (USD) = 233.22\n",
            "Intervalo de idade '65+': Quantidade Gasta (USD) = 185.56\n",
            "Quantidade total: 212502.33000000002\n"
          ]
        }
      ]
    },
    {
      "cell_type": "code",
      "source": [
        "mode_amount_sorted = mode_amount.sort_values(ascending=False)\n",
        "mode_amount_sorted"
      ],
      "metadata": {
        "colab": {
          "base_uri": "https://localhost:8080/"
        },
        "id": "qTTYgh2eCrsU",
        "outputId": "e4245b32-c1d6-4a60-f311-7f2921948953",
        "collapsed": true
      },
      "execution_count": null,
      "outputs": [
        {
          "output_type": "execute_result",
          "data": {
            "text/plain": [
              "Age\n",
              "18-24    98947.94\n",
              "25-34    69352.53\n",
              "13-17    29088.00\n",
              "35-44    13608.01\n",
              "45-54     1087.07\n",
              "55-64      233.22\n",
              "65+        185.56\n",
              "Name: Amount Spent (USD), dtype: float64"
            ]
          },
          "metadata": {},
          "execution_count": 31
        }
      ]
    },
    {
      "cell_type": "markdown",
      "source": [
        "**Link Clicks** = Número de cliques nos links do anúncio."
      ],
      "metadata": {
        "id": "OlYfOMSPe4Lx"
      }
    },
    {
      "cell_type": "code",
      "source": [
        "mode_linkClick = ageData.groupby('Age')['Link Clicks'].sum()"
      ],
      "metadata": {
        "id": "EOisPr5Wed-J"
      },
      "execution_count": null,
      "outputs": []
    },
    {
      "cell_type": "code",
      "source": [
        "printed_ages = set()\n",
        "sum_linkClick = 0\n",
        "\n",
        "print('Quantidade de Clique em Links por grupo etário:')\n",
        "for age, linkClick in mode_linkClick.items():\n",
        "    if linkClick > 1 and age not in printed_ages:\n",
        "        print(f\"Age range '{age}': Link Click = {linkClick}\")\n",
        "        sum_linkClick += linkClick\n",
        "        printed_ages.add(age)\n",
        "\n",
        "print(f\"Total de cliques: {sum_linkClick}\")"
      ],
      "metadata": {
        "colab": {
          "base_uri": "https://localhost:8080/"
        },
        "id": "coWX_q_mfBfF",
        "outputId": "9f536142-667a-4243-b7c5-8290987b4df2",
        "collapsed": true
      },
      "execution_count": null,
      "outputs": [
        {
          "output_type": "stream",
          "name": "stdout",
          "text": [
            "Quantidade de Clique em Links por grupo etário:\n",
            "Age range '13-17': Link Click = 343307\n",
            "Age range '18-24': Link Click = 686358\n",
            "Age range '25-34': Link Click = 363333\n",
            "Age range '35-44': Link Click = 87956\n",
            "Age range '45-54': Link Click = 9205\n",
            "Age range '55-64': Link Click = 2282\n",
            "Age range '65+': Link Click = 2841\n",
            "Total de cliques: 1495282\n"
          ]
        }
      ]
    },
    {
      "cell_type": "code",
      "source": [
        "mode_linkClick_sorted = mode_linkClick.sort_values(ascending=False)\n",
        "mode_linkClick_sorted"
      ],
      "metadata": {
        "colab": {
          "base_uri": "https://localhost:8080/"
        },
        "id": "-DsMWzapfD8U",
        "outputId": "71654612-05ab-4cdf-cb25-4693b0e03a33",
        "collapsed": true
      },
      "execution_count": null,
      "outputs": [
        {
          "output_type": "execute_result",
          "data": {
            "text/plain": [
              "Age\n",
              "18-24    686358\n",
              "25-34    363333\n",
              "13-17    343307\n",
              "35-44     87956\n",
              "45-54      9205\n",
              "65+        2841\n",
              "55-64      2282\n",
              "Name: Link Clicks, dtype: int64"
            ]
          },
          "metadata": {},
          "execution_count": 34
        }
      ]
    },
    {
      "cell_type": "code",
      "source": [
        "ageData['Ad Set Name'].unique()"
      ],
      "metadata": {
        "colab": {
          "base_uri": "https://localhost:8080/"
        },
        "id": "7TudA6-llHzo",
        "outputId": "36b18a98-5a26-42c2-c5a0-4a20ca219e40",
        "collapsed": true
      },
      "execution_count": null,
      "outputs": [
        {
          "output_type": "execute_result",
          "data": {
            "text/plain": [
              "array(['LC Cart-Conversion 23/03/2017 (18-35, Europe+WW, Topics) - Zumba/Dieting',\n",
              "       'LC Cart-Conversion 23/03/2017 (Europe+WW, Luxury Brands) - Different Insights - 3',\n",
              "       'LC Cart-Conversion 23/03/2017 (Europe+WW, Luxury Brands) - Lancôme, Loir-et-Cher',\n",
              "       ...,\n",
              "       'LC Checkout-Conversion 02/09/2016 (13-44, Europe, iphone 5/5c) - Instagram',\n",
              "       'LC Cart-Conversion 02/02/2017 (18-35, Europe+WW, Topics) - Exercise',\n",
              "       'LC Checkout-Conversion 22/08/2016 (18-44, Europe, 5/5s)'],\n",
              "      dtype=object)"
            ]
          },
          "metadata": {},
          "execution_count": 35
        }
      ]
    },
    {
      "cell_type": "code",
      "source": [
        "print('Número total de Ad Set Name:', len(ageData['Ad Set Name'].unique()))"
      ],
      "metadata": {
        "colab": {
          "base_uri": "https://localhost:8080/"
        },
        "id": "euN38X8UlxYJ",
        "outputId": "3d8e8c43-f531-490c-9ac0-0ce39dd2e033"
      },
      "execution_count": null,
      "outputs": [
        {
          "output_type": "stream",
          "name": "stdout",
          "text": [
            "Número total de Ad Set Name: 1071\n"
          ]
        }
      ]
    },
    {
      "cell_type": "code",
      "source": [
        "mode_ad_set = ageData['Ad Set Name'].value_counts()\n",
        "mode_ad_set.columns = ['Mode']\n",
        "print(f'Mode:', mode_ad_set.idxmax())"
      ],
      "metadata": {
        "colab": {
          "base_uri": "https://localhost:8080/"
        },
        "id": "3OofR4B2l8nj",
        "outputId": "a2843228-8311-4e9c-b15a-3553e47e1c96"
      },
      "execution_count": null,
      "outputs": [
        {
          "output_type": "stream",
          "name": "stdout",
          "text": [
            "Mode: LC Checkout-Conversion 04/09/2016 (Europe, Ballet) - Instagram\n"
          ]
        }
      ]
    },
    {
      "cell_type": "code",
      "source": [
        "mode_ad_set_sorted = mode_ad_set.sort_values(ascending=False)\n",
        "mode_ad_set_sorted.head(25)"
      ],
      "metadata": {
        "colab": {
          "base_uri": "https://localhost:8080/"
        },
        "id": "ZkiP38r0nO_j",
        "outputId": "58c083f1-39f6-428d-f329-4bd8216be32c",
        "collapsed": true
      },
      "execution_count": null,
      "outputs": [
        {
          "output_type": "execute_result",
          "data": {
            "text/plain": [
              "Ad Set Name\n",
              "LC Checkout-Conversion 04/09/2016 (Europe, Ballet) - Instagram          9\n",
              "Viewed - 180 days - Italian                                             7\n",
              "Viewed - 15 days - Italian                                              7\n",
              "LC Engagement 05/02/2017 (13-65+, WW, Instagram)                        7\n",
              "LC Checkout-Conversion 07/02/2017 (Europe, Valentines)                  7\n",
              "LC Checkout-Conversion 30/09/2016 (Europe, Psychologist)                7\n",
              "LC Checkout-Conversion 30/09/2016 (Europe, Psychologist) - Instagram    7\n",
              "LC Engagement 09/02/2017 (13-65+, Europe+WW, Instagram)                 7\n",
              "LC Conversion 09/02/2017 (18-65, World, Tops) - FB Engagers             7\n",
              "LC Checkout-Conversion 01/10/2016 (Europe, Lawyer)                      7\n",
              "LC Engagement 23/08/2016 (18-44, FR, Relationship)                      7\n",
              "LC Checkout-Conversion 01/10/2016 (Europe, Lawyer) - Instagram          7\n",
              "Viewed - 15 days - German                                               7\n",
              "Viewed - 15 days - Spanish                                              7\n",
              "Add to cart - 180 days - French                                         7\n",
              "Add to cart - 180 days - Dutch                                          7\n",
              "Add to cart - 60 days - Spanish                                         7\n",
              "Add to cart - 15 days - Dutch                                           7\n",
              "LC Checkout-Conversion 22/09/2016 (Europe, Dream)                       7\n",
              "LC Checkout-Conversion 22/09/2016 (Europe, FR)                          7\n",
              "Viewed - 15 days - French                                               7\n",
              "LC Checkout-Conversion 06/10/2016 (Europe, Relationship) - Copy         7\n",
              "Viewed - 15 days - English - Non Local                                  7\n",
              "Add to cart - 15 days - English - Non Local                             7\n",
              "LC Engagement 05/09/2016 (13-65+, WW, Flamingos) - Instagram            7\n",
              "Name: count, dtype: int64"
            ]
          },
          "metadata": {},
          "execution_count": 38
        }
      ]
    },
    {
      "cell_type": "markdown",
      "source": [
        "## Gráficos"
      ],
      "metadata": {
        "id": "PTEzhALlcz4z"
      }
    },
    {
      "cell_type": "markdown",
      "source": [
        "Criando dicionário para colocar as variáveis traduzidas"
      ],
      "metadata": {
        "id": "ZZLMSwenWKi_"
      }
    },
    {
      "cell_type": "code",
      "source": [
        "translation_dict = {\n",
        "    'Frequency': 'Frequência',\n",
        "    'Cost per Purchase (Facebook Pixel) (USD)': 'Custo por Compra (USD)',\n",
        "    'Results': 'Resultados',\n",
        "    'Purchase (Facebook Pixel)': 'Compra',\n",
        "    'ROAS': 'ROAS',\n",
        "    'Amount Spent (USD)': 'Valor Gasto (USD)',\n",
        "    'Link Clicks': 'Cliques no Link',\n",
        "    'Reach': 'Alcance'\n",
        "}"
      ],
      "metadata": {
        "id": "39hX1OtmWKG0"
      },
      "execution_count": null,
      "outputs": []
    },
    {
      "cell_type": "code",
      "source": [
        "columns = ['Frequency', 'Cost per Purchase (Facebook Pixel) (USD)', 'Results', 'Purchase (Facebook Pixel)', 'ROAS', 'Amount Spent (USD)', 'Link Clicks', 'Reach']\n",
        "for column in columns:\n",
        "  platform_performance = ageData.groupby('Age')[column].mean().reset_index()\n",
        "  plt.figure(figsize=(8,8))\n",
        "  sns.barplot(x='Age', y=column, data=platform_performance, color='skyblue')\n",
        "  plt.xlabel('Faixa Etária')\n",
        "  plt.ylabel(f'{translation_dict[column]}')\n",
        "  plt.title(f'{translation_dict[column]}' + ' por Faixa Etária')\n",
        "  plt.show()"
      ],
      "metadata": {
        "colab": {
          "base_uri": "https://localhost:8080/",
          "height": 1000
        },
        "id": "JI0E6XLhTG_F",
        "outputId": "7dc497be-0b1b-4e9d-a5f7-5df512493b42"
      },
      "execution_count": null,
      "outputs": [
        {
          "output_type": "display_data",
          "data": {
            "text/plain": [
              "<Figure size 800x800 with 1 Axes>"
            ],
            "image/png": "[encoded data removed]"
          },
          "metadata": {}
        },
        {
          "output_type": "display_data",
          "data": {
            "text/plain": [
              "<Figure size 800x800 with 1 Axes>"
            ],
            "image/png": "[encoded data removed]"
          },
          "metadata": {}
        },
        {
          "output_type": "display_data",
          "data": {
            "text/plain": [
              "<Figure size 800x800 with 1 Axes>"
            ],
            "image/png": "[encoded data removed]"
          },
          "metadata": {}
        },
        {
          "output_type": "display_data",
          "data": {
            "text/plain": [
              "<Figure size 800x800 with 1 Axes>"
            ],
            "image/png": "[encoded data removed]"
          },
          "metadata": {}
        },
        {
          "output_type": "display_data",
          "data": {
            "text/plain": [
              "<Figure size 800x800 with 1 Axes>"
            ],
            "image/png": "[encoded data removed]"
          },
          "metadata": {}
        },
        {
          "output_type": "display_data",
          "data": {
            "text/plain": [
              "<Figure size 800x800 with 1 Axes>"
            ],
            "image/png": "[encoded data removed]"
          },
          "metadata": {}
        },
        {
          "output_type": "display_data",
          "data": {
            "text/plain": [
              "<Figure size 800x800 with 1 Axes>"
            ],
            "image/png": "[encoded data removed]"
          },
          "metadata": {}
        },
        {
          "output_type": "display_data",
          "data": {
            "text/plain": [
              "<Figure size 800x800 with 1 Axes>"
            ],
            "image/png": "[encoded data removed]"
          },
          "metadata": {}
        }
      ]
    },
    {
      "cell_type": "code",
      "source": [
        "ageData.groupby('Age').size()"
      ],
      "metadata": {
        "colab": {
          "base_uri": "https://localhost:8080/"
        },
        "id": "UVOXMQMauOzD",
        "outputId": "e0976a6b-4599-4843-bf5d-f664f0e6ab3e"
      },
      "execution_count": null,
      "outputs": [
        {
          "output_type": "execute_result",
          "data": {
            "text/plain": [
              "Age\n",
              "13-17     340\n",
              "18-24    1078\n",
              "25-34    1084\n",
              "35-44    1058\n",
              "45-54     264\n",
              "55-64     220\n",
              "65+       220\n",
              "dtype: int64"
            ]
          },
          "metadata": {},
          "execution_count": 47
        }
      ]
    }
  ]
}